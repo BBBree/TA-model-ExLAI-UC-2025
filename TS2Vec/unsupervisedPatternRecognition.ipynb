{
 "cells": [
  {
   "cell_type": "markdown",
   "id": "f2750126",
   "metadata": {},
   "source": [
    "Imports & helper defs "
   ]
  },
  {
   "cell_type": "code",
   "execution_count": 10,
   "id": "bbd61140",
   "metadata": {},
   "outputs": [],
   "source": [
    "import numpy as np, pandas as pd, matplotlib.pyplot as plt, math, random, os\n",
    "from pathlib import Path\n",
    "import yfinance as yf, mplfinance as mpf, plotly.express as px\n",
    "from ts2vec import TS2Vec\n",
    "from sklearn.cluster import DBSCAN\n",
    "import hdbscan, torch, ipywidgets as w\n",
    "from sklearn.preprocessing import StandardScaler\n",
    "\n",
    "from ipywidgets import Layout \n",
    "\n",
    "def make_windows_multich(arr2d, size=256, stride=1):\n",
    "    T, C = arr2d.shape\n",
    "    if T < size:\n",
    "        # return an “empty” windows array\n",
    "        return np.zeros((0, size, C), dtype=arr2d.dtype)\n",
    "    n = (T - size)//stride + 1\n",
    "    return np.stack([arr2d[i*stride:i*stride+size] for i in range(n)])\n",
    "\n",
    "def standardise_ohlcv(df, log_volume=True):\n",
    "    df = df.copy()\n",
    "    if log_volume:\n",
    "        df['Volume'] = np.log1p(df['Volume'])\n",
    "    return (df - df.mean()) / df.std()\n",
    "\n",
    "def candle_panel(members, ax=None):\n",
    "    \"\"\"\n",
    "    Plot the average window in full candlestick + volume style.\n",
    "    `members` is an array of shape (n_windows, win_len, 5).\n",
    "    \"\"\"\n",
    "    # 1) compute prototype\n",
    "    proto = members.mean(axis=0)  # shape (win_len, 5)\n",
    "\n",
    "    # 2) build a DataFrame with a dummy minute-based index\n",
    "    df = pd.DataFrame(\n",
    "        proto,\n",
    "        columns=['Open','High','Low','Close','Volume'],\n",
    "        index=pd.date_range('2000-01-01', periods=len(proto), freq='min')\n",
    "    )\n",
    "    df.replace([np.inf, -np.inf], np.nan, inplace=True)\n",
    "    df.dropna(inplace=True)\n",
    "    if df.empty:\n",
    "        if ax: ax.axis('off')\n",
    "        return\n",
    "\n",
    "    # 3) plot candlestick only\n",
    "    own_fig = False\n",
    "    if ax is None:\n",
    "        fig, ax = plt.subplots(figsize=(6,4))\n",
    "        own_fig = True\n",
    "\n",
    "    mpf.plot(\n",
    "        df,\n",
    "        type='candle',\n",
    "        style='charles',\n",
    "        volume=False,   # disable built-in volume\n",
    "        ax=ax,\n",
    "        tight_layout=True\n",
    "    )\n",
    "\n",
    "    # 4) overlay volume bars on a twin axis\n",
    "    ax2 = ax.twinx()\n",
    "    ax2.bar(df.index, df['Volume'], color='#bbb', alpha=.3, width=1)\n",
    "    ax2.axis('off')\n",
    "    ax.axis('off')\n",
    "\n",
    "    if own_fig:\n",
    "        plt.show()\n",
    "\n",
    "def gallery_panel(members, ax=None):\n",
    "    proto = members.mean(0)\n",
    "    df = pd.DataFrame(proto,\n",
    "                      columns=['Open','High','Low','Close','Volume'],\n",
    "                      index=pd.date_range('2000-01-01', periods=len(proto)))\n",
    "    df.replace([np.inf,-np.inf], np.nan, inplace=True)\n",
    "    df.dropna(inplace=True)\n",
    "    if df.empty:\n",
    "        if ax: ax.axis('off'); return\n",
    "    own = False\n",
    "    if ax is None:\n",
    "        fig, ax = plt.subplots(figsize=(6,3)); own=True\n",
    "    mpf.plot(df, ax=ax, type='line', style='charles',\n",
    "             volume=False, tight_layout=True)\n",
    "    ax2 = ax.twinx()\n",
    "    ax2.bar(df.index, df['Volume'], color='#bbb', alpha=.3, width=1)\n",
    "    ax2.axis('off'); ax.axis('off')\n",
    "    if own: plt.show()\n",
    "\n",
    "def inspect_cluster(windows3, labels, cid, n=6):\n",
    "    idx = np.where(labels==cid)[0]\n",
    "    if len(idx)==0:\n",
    "        print('Cluster empty'); return\n",
    "    samp = np.random.choice(idx, min(n,len(idx)), replace=False)\n",
    "    rows = math.ceil(len(samp)/3)\n",
    "    fig, axs = plt.subplots(rows,3, figsize=(12,2.5*rows))\n",
    "    for ax,i in zip(axs.ravel(), samp):\n",
    "        gallery_panel(windows3[i:i+1], ax=ax)\n",
    "        ax.set_title(f'id {i}', fontsize=8)\n",
    "    for ax in axs.ravel()[len(samp):]: ax.axis('off')\n",
    "    plt.tight_layout(); plt.show()\n",
    "\n",
    "def save_model(enc, path):\n",
    "    # use the model’s own save method\n",
    "    enc.save(path)\n",
    "\n",
    "def load_model(path, input_dims, device='cpu'):\n",
    "    # re-instantiate and then call its load() method\n",
    "    enc = TS2Vec(input_dims=input_dims, device=device)\n",
    "    enc.load(path)\n",
    "    return enc"
   ]
  },
  {
   "cell_type": "code",
   "execution_count": 9,
   "id": "cdadeb62",
   "metadata": {},
   "outputs": [
    {
     "name": "stdout",
     "output_type": "stream",
     "text": [
      "True\n",
      "1\n",
      "NVIDIA GeForce RTX 4080 Laptop GPU\n",
      "12.1\n",
      "90100\n"
     ]
    }
   ],
   "source": [
    "import torch\n",
    "print(torch.cuda.is_available())\n",
    "print(torch.cuda.device_count())\n",
    "print(torch.cuda.get_device_name(0) if torch.cuda.is_available() else \"No GPU\")\n",
    "\n",
    "print(torch.version.cuda)\n",
    "print(torch.backends.cudnn.version())"
   ]
  },
  {
   "cell_type": "markdown",
   "id": "0e1d6959",
   "metadata": {},
   "source": [
    "Interactive config panel"
   ]
  },
  {
   "cell_type": "code",
   "execution_count": 27,
   "id": "96a6592e",
   "metadata": {},
   "outputs": [
    {
     "data": {
      "application/vnd.jupyter.widget-view+json": {
       "model_id": "3600cc2aafd844c896186557dcee5d93",
       "version_major": 2,
       "version_minor": 0
      },
      "text/plain": [
       "VBox(children=(SelectMultiple(description='Tickers', index=(0, 1), options=('AAPL', 'MSFT', 'AMZN', 'NVDA', 'G…"
      ]
     },
     "metadata": {},
     "output_type": "display_data"
    }
   ],
   "source": [
    "import pandas as pd\n",
    "import ipywidgets as w\n",
    "from ipywidgets import Layout\n",
    "\n",
    "# --- existing widgets ---\n",
    "TICKERS   = w.SelectMultiple(options=['AAPL','MSFT','AMZN','NVDA','GOOGL','TSLA'],\n",
    "                             value=('AAPL','MSFT'), description='Tickers')\n",
    "dates     = pd.date_range('2000-01-01','2025-12-31',freq='MS')\n",
    "DATE_RANGE= w.SelectionRangeSlider(options=dates,\n",
    "                                   value=(dates[0], dates[-1]),\n",
    "                                   description='Dates',\n",
    "                                   layout=Layout(width='700px'),\n",
    "                                   continuous_update=False)\n",
    "WIN_LENS  = w.SelectMultiple(options=[8,16,32,64,128,256], value=(64,256),\n",
    "                             description='Win lens')\n",
    "LOG_VOL   = w.Checkbox(value=True, description='log1p Volume')\n",
    "EPS       = w.FloatSlider(value=0.9, min=0.2, max=2, step=0.1,\n",
    "                          description='eps')\n",
    "MIN_SAMP  = w.IntSlider(value=5, min=2, max=15, step=1,\n",
    "                        description='min_samples')\n",
    "MIN_SIZE  = w.IntSlider(value=5, min=1, max=30, step=1,\n",
    "                        description='MIN_SIZE')\n",
    "\n",
    "# --- new TS2Vec hyper-params ---\n",
    "N_EPOCHS = w.IntSlider(\n",
    "    value=50,            # default 50 epochs\n",
    "    min=1,\n",
    "    max=200,\n",
    "    step=1,\n",
    "    description='n_epochs'\n",
    ")\n",
    "OUTPUT_DIMS = w.IntText(value=512, description='output_dims')\n",
    "HIDDEN_DIMS = w.IntText(value=128, description='hidden_dims')\n",
    "DEPTH       = w.IntSlider(value=12, min=1, max=20, step=1,\n",
    "                          description='depth')\n",
    "LR          = w.FloatLogSlider(value=0.001, base=10,\n",
    "                               min=-5, max=0, step=0.1,\n",
    "                               description='lr')\n",
    "BATCH_SIZE  = w.IntSlider(value=16, min=1, max=128, step=1,\n",
    "                          description='batch_size')\n",
    "\n",
    "# --- display everything together ---\n",
    "display(w.VBox([\n",
    "    TICKERS,\n",
    "    DATE_RANGE,\n",
    "    WIN_LENS,\n",
    "    LOG_VOL,\n",
    "    EPS,\n",
    "    MIN_SAMP,\n",
    "    MIN_SIZE,\n",
    "    # TS2Vec block:\n",
    "    OUTPUT_DIMS,\n",
    "    HIDDEN_DIMS,\n",
    "    DEPTH,\n",
    "    LR,\n",
    "    BATCH_SIZE,\n",
    "    N_EPOCHS\n",
    "]))"
   ]
  },
  {
   "cell_type": "markdown",
   "id": "5f0dc9c0",
   "metadata": {},
   "source": [
    "Download & standardise"
   ]
  },
  {
   "cell_type": "code",
   "execution_count": 18,
   "id": "175230a9",
   "metadata": {},
   "outputs": [
    {
     "name": "stdout",
     "output_type": "stream",
     "text": [
      "Ticker\n",
      "AAPL    6416\n",
      "dtype: int64\n"
     ]
    }
   ],
   "source": [
    "cols = ['Open','High','Low','Close','Volume']\n",
    "start = DATE_RANGE.value[0].strftime('%Y-%m-%d')\n",
    "end   = DATE_RANGE.value[1].strftime('%Y-%m-%d')\n",
    "\n",
    "dfs = []\n",
    "for tkr in TICKERS.value:\n",
    "    df = yf.download(tkr, start=start, end=end,\n",
    "                     auto_adjust=False, progress=False)[cols]\n",
    "    df['Ticker'] = tkr\n",
    "    dfs.append(df)\n",
    "raw_df = pd.concat(dfs).dropna()\n",
    "print(raw_df.groupby('Ticker').size())\n",
    "\n",
    "std_df = standardise_ohlcv(raw_df[cols], log_volume=LOG_VOL.value)\n",
    "data_np = std_df.values"
   ]
  },
  {
   "cell_type": "markdown",
   "id": "d034b5a0",
   "metadata": {},
   "source": [
    "Windowing"
   ]
  },
  {
   "cell_type": "code",
   "execution_count": 19,
   "id": "37c51bca",
   "metadata": {},
   "outputs": [
    {
     "name": "stdout",
     "output_type": "stream",
     "text": [
      "Len 8: (6409, 8, 5)\n",
      "Len 64: (6353, 64, 5)\n"
     ]
    }
   ],
   "source": [
    "windows_dict = {}\n",
    "for L in WIN_LENS.value:\n",
    "    windows_dict[L] = make_windows_multich(data_np, size=L, stride=1)\n",
    "    print(f'Len {L}:', windows_dict[L].shape)"
   ]
  },
  {
   "cell_type": "markdown",
   "id": "d5e1bf8f",
   "metadata": {},
   "source": [
    "Train or load TS2Vec"
   ]
  },
  {
   "cell_type": "code",
   "execution_count": 20,
   "id": "36954300",
   "metadata": {},
   "outputs": [
    {
     "name": "stdout",
     "output_type": "stream",
     "text": [
      "cuda\n",
      "Epoch #0: loss=1.8524624693393708\n",
      "Epoch #1: loss=1.4741976998746396\n",
      "Epoch #2: loss=1.3329044197499753\n",
      "Epoch #3: loss=1.1706568786501885\n",
      "Epoch #4: loss=1.1516100457310676\n",
      "Epoch #5: loss=1.086480716392398\n",
      "Epoch #6: loss=1.0637135127186774\n",
      "Epoch #7: loss=1.0341109657287597\n",
      "Epoch #8: loss=1.003539227321744\n",
      "Epoch #9: loss=0.9728141734004021\n",
      "Epoch #10: loss=0.9672667769342661\n",
      "Epoch #11: loss=0.9422362433373928\n",
      "Epoch #12: loss=0.951987733617425\n",
      "Epoch #13: loss=0.8960464334487915\n",
      "Epoch #14: loss=0.8942458010837435\n",
      "Epoch #15: loss=0.8830837276205421\n",
      "Epoch #16: loss=0.9204633899405599\n",
      "Epoch #17: loss=0.8684426309540868\n",
      "Epoch #18: loss=0.8431382766738534\n",
      "Epoch #19: loss=0.8496761270612478\n",
      "Epoch #20: loss=0.848962961807847\n",
      "Epoch #21: loss=0.8130769573524594\n",
      "Epoch #22: loss=0.8353477125242352\n",
      "Epoch #23: loss=0.7962501405552029\n",
      "Epoch #24: loss=0.8373217950016261\n",
      "Epoch #25: loss=0.8516824279725551\n",
      "Epoch #26: loss=0.8302527353912592\n",
      "Epoch #27: loss=0.8041453368216753\n",
      "Epoch #28: loss=0.7734318946860731\n",
      "Epoch #29: loss=0.7707932414859533\n",
      "Epoch #30: loss=0.7912074870988727\n",
      "Epoch #31: loss=0.773130733370781\n",
      "Epoch #32: loss=0.8134334244206548\n",
      "Epoch #33: loss=0.7754001438990236\n",
      "Epoch #34: loss=0.7228531972318888\n",
      "Epoch #35: loss=0.7627921065315604\n",
      "Epoch #36: loss=0.7384515137970448\n",
      "Epoch #37: loss=0.7314159276336432\n",
      "Epoch #38: loss=0.7283305010199547\n",
      "Epoch #39: loss=0.7259629211761057\n",
      "Epoch #40: loss=0.7621285324916244\n",
      "Epoch #41: loss=0.7425228714197875\n",
      "Epoch #42: loss=0.7286033064685762\n",
      "Epoch #43: loss=0.7338316369429231\n",
      "Epoch #44: loss=0.7468624799326062\n",
      "Epoch #45: loss=0.6905938076414168\n",
      "Epoch #46: loss=0.7482955893129111\n",
      "Epoch #47: loss=0.7027156035974622\n",
      "Epoch #48: loss=0.6933025561831891\n",
      "Epoch #49: loss=0.7024375597387552\n",
      "Epoch #50: loss=0.6925890722684562\n",
      "Epoch #51: loss=0.6775632861070335\n",
      "Epoch #52: loss=0.6740428737178444\n",
      "Epoch #53: loss=0.7058805440180004\n",
      "Epoch #54: loss=0.7118163018301129\n",
      "Epoch #55: loss=0.7154650981351733\n",
      "Epoch #56: loss=0.6991814760118723\n",
      "Epoch #57: loss=0.6881562357395887\n",
      "Epoch #58: loss=0.6921967786364257\n",
      "Epoch #59: loss=0.6827315948531032\n",
      "💾 Model trained & saved → ts2vec_ohlcv_L8.pt\n",
      "Epoch #0: loss=1.888087247721194\n",
      "Epoch #1: loss=1.2550213835401558\n",
      "Epoch #2: loss=1.142870384139438\n",
      "Epoch #3: loss=0.9665749811705774\n",
      "Epoch #4: loss=0.9380364815143855\n",
      "Epoch #5: loss=0.7962684128386548\n",
      "Epoch #6: loss=0.8074224384815927\n",
      "Epoch #7: loss=0.7996330214687799\n",
      "Epoch #8: loss=0.7231791065231679\n",
      "Epoch #9: loss=0.699715980954975\n",
      "Epoch #10: loss=0.6855733459932678\n",
      "Epoch #11: loss=0.6410351141123688\n",
      "Epoch #12: loss=0.647803723962241\n",
      "Epoch #13: loss=0.5740360736621717\n",
      "Epoch #14: loss=0.6144755013493507\n",
      "Epoch #15: loss=0.5793709822130444\n",
      "Epoch #16: loss=0.5528838959163622\n",
      "Epoch #17: loss=0.5758778144715715\n",
      "Epoch #18: loss=0.5932669531112954\n",
      "Epoch #19: loss=0.5933736861502794\n",
      "Epoch #20: loss=0.5399690368388702\n",
      "Epoch #21: loss=0.5663925857853229\n",
      "Epoch #22: loss=0.46124326450848757\n",
      "Epoch #23: loss=0.5112236421414527\n",
      "Epoch #24: loss=0.5241180655337702\n",
      "Epoch #25: loss=0.4927207867729874\n",
      "Epoch #26: loss=0.5568633803942942\n",
      "Epoch #27: loss=0.46347771202136645\n",
      "Epoch #28: loss=0.46686502161344295\n",
      "Epoch #29: loss=0.44690317686844233\n",
      "Epoch #30: loss=0.5058681946107062\n",
      "Epoch #31: loss=0.46025403498927653\n",
      "Epoch #32: loss=0.45661259376882607\n",
      "Epoch #33: loss=0.43040804142690725\n",
      "Epoch #34: loss=0.42656968973145376\n",
      "Epoch #35: loss=0.44860999055338147\n",
      "Epoch #36: loss=0.4407183635857904\n",
      "Epoch #37: loss=0.437545325616445\n",
      "Epoch #38: loss=0.4126861418224402\n",
      "Epoch #39: loss=0.44658400878422805\n",
      "Epoch #40: loss=0.45947371286243877\n",
      "Epoch #41: loss=0.4272032885129566\n",
      "Epoch #42: loss=0.4461306731031283\n",
      "Epoch #43: loss=0.43776148131647397\n",
      "Epoch #44: loss=0.45010705607513934\n",
      "Epoch #45: loss=0.40464111965534366\n",
      "Epoch #46: loss=0.3677067390879996\n",
      "Epoch #47: loss=0.3941579290691491\n",
      "Epoch #48: loss=0.41738059788341786\n",
      "Epoch #49: loss=0.4491463909746718\n",
      "Epoch #50: loss=0.4197919267213315\n",
      "Epoch #51: loss=0.3769592120117444\n",
      "Epoch #52: loss=0.36656279768091005\n",
      "Epoch #53: loss=0.38067309785474757\n",
      "Epoch #54: loss=0.39649153917427327\n",
      "Epoch #55: loss=0.4225292933415105\n",
      "Epoch #56: loss=0.4092713311614858\n",
      "Epoch #57: loss=0.3968146838979697\n",
      "Epoch #58: loss=0.39175835045368906\n",
      "Epoch #59: loss=0.36191722099441725\n",
      "💾 Model trained & saved → ts2vec_ohlcv_L64.pt\n"
     ]
    }
   ],
   "source": [
    "device     = 'cuda' if torch.cuda.is_available() else 'cpu'\n",
    "input_dims = 5\n",
    "print(device)\n",
    "encoders = {}\n",
    "\n",
    "for L, win3 in windows_dict.items():\n",
    "    n_wins = win3.shape[0]\n",
    "    PATH  = f'ts2vec_ohlcv_L{L}.pt'\n",
    "\n",
    "    # 1) Skip any window‐length that produced zero windows\n",
    "    if n_wins == 0:\n",
    "        print(f\"⚠️  Skipping L={L}: no windows (data length < {L})\")\n",
    "        continue\n",
    "\n",
    "    # 2) Load or train as before\n",
    "    if Path(PATH).exists():\n",
    "        enc = load_model(PATH, input_dims, device=device)\n",
    "        print(f'✅ Loaded model for window length {L}.')\n",
    "    else:\n",
    "        enc = encoder = TS2Vec(\n",
    "            input_dims   = input_dims,\n",
    "            output_dims  = OUTPUT_DIMS.value,\n",
    "            hidden_dims  = HIDDEN_DIMS.value,\n",
    "            depth        = DEPTH.value,\n",
    "            device       = device,\n",
    "            lr           = LR.value,\n",
    "            batch_size   = BATCH_SIZE.value)\n",
    "        enc.fit(win3, n_epochs=N_EPOCHS.value, verbose=True)\n",
    "        save_model(enc, PATH)\n",
    "        print(f'💾 Model trained & saved → {PATH}')\n",
    "\n",
    "    encoders[L] = enc\n",
    "   "
   ]
  },
  {
   "cell_type": "markdown",
   "id": "4f5e9fe8",
   "metadata": {},
   "source": [
    "mbedding + clustering"
   ]
  },
  {
   "cell_type": "code",
   "execution_count": 30,
   "id": "50af964a",
   "metadata": {},
   "outputs": [
    {
     "name": "stderr",
     "output_type": "stream",
     "text": [
      "c:\\Users\\uslep\\OneDrive\\Desktop\\TA-model-ExLAI-UC-2025\\.venv\\Lib\\site-packages\\sklearn\\utils\\deprecation.py:132: FutureWarning: 'force_all_finite' was renamed to 'ensure_all_finite' in 1.6 and will be removed in 1.8.\n",
      "  warnings.warn(\n",
      "c:\\Users\\uslep\\OneDrive\\Desktop\\TA-model-ExLAI-UC-2025\\.venv\\Lib\\site-packages\\sklearn\\utils\\deprecation.py:132: FutureWarning: 'force_all_finite' was renamed to 'ensure_all_finite' in 1.6 and will be removed in 1.8.\n",
      "  warnings.warn(\n"
     ]
    },
    {
     "name": "stdout",
     "output_type": "stream",
     "text": [
      "L=8: {np.int64(-1): np.int64(241), np.int64(0): np.int64(1157), np.int64(1): np.int64(21), np.int64(2): np.int64(4199), np.int64(3): np.int64(791)}\n"
     ]
    },
    {
     "name": "stderr",
     "output_type": "stream",
     "text": [
      "c:\\Users\\uslep\\OneDrive\\Desktop\\TA-model-ExLAI-UC-2025\\.venv\\Lib\\site-packages\\sklearn\\utils\\deprecation.py:132: FutureWarning: 'force_all_finite' was renamed to 'ensure_all_finite' in 1.6 and will be removed in 1.8.\n",
      "  warnings.warn(\n",
      "c:\\Users\\uslep\\OneDrive\\Desktop\\TA-model-ExLAI-UC-2025\\.venv\\Lib\\site-packages\\sklearn\\utils\\deprecation.py:132: FutureWarning: 'force_all_finite' was renamed to 'ensure_all_finite' in 1.6 and will be removed in 1.8.\n",
      "  warnings.warn(\n"
     ]
    },
    {
     "name": "stdout",
     "output_type": "stream",
     "text": [
      "L=64: {np.int64(-1): np.int64(926), np.int64(0): np.int64(2143), np.int64(1): np.int64(14), np.int64(2): np.int64(80), np.int64(3): np.int64(37), np.int64(4): np.int64(27), np.int64(5): np.int64(38), np.int64(6): np.int64(26), np.int64(7): np.int64(11), np.int64(8): np.int64(59), np.int64(9): np.int64(13), np.int64(10): np.int64(51), np.int64(11): np.int64(55), np.int64(12): np.int64(170), np.int64(13): np.int64(19), np.int64(14): np.int64(59), np.int64(15): np.int64(14), np.int64(16): np.int64(13), np.int64(17): np.int64(30), np.int64(18): np.int64(70), np.int64(19): np.int64(11), np.int64(20): np.int64(31), np.int64(21): np.int64(59), np.int64(22): np.int64(24), np.int64(23): np.int64(16), np.int64(24): np.int64(57), np.int64(25): np.int64(67), np.int64(26): np.int64(14), np.int64(27): np.int64(46), np.int64(28): np.int64(37), np.int64(29): np.int64(14), np.int64(30): np.int64(25), np.int64(31): np.int64(73), np.int64(32): np.int64(15), np.int64(33): np.int64(40), np.int64(34): np.int64(10), np.int64(35): np.int64(35), np.int64(36): np.int64(34), np.int64(37): np.int64(24), np.int64(38): np.int64(14), np.int64(39): np.int64(31), np.int64(40): np.int64(44), np.int64(41): np.int64(39), np.int64(42): np.int64(47), np.int64(43): np.int64(66), np.int64(44): np.int64(41), np.int64(45): np.int64(94), np.int64(46): np.int64(21), np.int64(47): np.int64(78), np.int64(48): np.int64(19), np.int64(49): np.int64(18), np.int64(50): np.int64(57), np.int64(51): np.int64(27), np.int64(52): np.int64(31), np.int64(53): np.int64(57), np.int64(54): np.int64(102), np.int64(55): np.int64(53), np.int64(56): np.int64(46), np.int64(57): np.int64(11), np.int64(58): np.int64(68), np.int64(59): np.int64(57), np.int64(60): np.int64(22), np.int64(61): np.int64(24), np.int64(62): np.int64(20), np.int64(63): np.int64(167), np.int64(64): np.int64(110), np.int64(65): np.int64(43), np.int64(66): np.int64(76), np.int64(67): np.int64(16), np.int64(68): np.int64(29), np.int64(69): np.int64(136), np.int64(70): np.int64(48), np.int64(71): np.int64(96), np.int64(72): np.int64(58)}\n"
     ]
    }
   ],
   "source": [
    "results = {}\n",
    "for L, win3 in windows_dict.items():\n",
    "    Z = encoder.encode(win3).mean(axis=1)\n",
    "    Z_scaled = StandardScaler().fit_transform(Z)\n",
    "    labels = DBSCAN(eps=EPS.value, min_samples=MIN_SAMP.value).fit_predict(Z_scaled)\n",
    "    if (labels==-1).all():  # fallback\n",
    "        labels = hdbscan.HDBSCAN(min_cluster_size=MIN_SAMP.value,\n",
    "                                 min_samples=MIN_SAMP.value).fit_predict(Z_scaled)\n",
    "    results[L] = dict(labels=labels, Z=Z_scaled)\n",
    "    print(f'L={L}:', dict(zip(*np.unique(labels, return_counts=True))))"
   ]
  },
  {
   "cell_type": "markdown",
   "id": "2c0e9b62",
   "metadata": {},
   "source": [
    "Interactive pattern gallery"
   ]
  },
  {
   "cell_type": "code",
   "execution_count": null,
   "id": "879aab5f",
   "metadata": {},
   "outputs": [],
   "source": [
    "def show_gallery(win_len):\n",
    "    labels = results[win_len]['labels']\n",
    "    win3   = windows_dict[win_len]\n",
    "    ids = [cid for cid,cnt in zip(*np.unique(labels, return_counts=True))\n",
    "           if cid!=-1 and cnt>=MIN_SIZE.value]\n",
    "    if not ids:\n",
    "        print('No clusters ≥', MIN_SIZE.value); return\n",
    "    cols=3; rows=math.ceil(len(ids)/cols)\n",
    "    fig,axs=plt.subplots(rows,cols,figsize=(5*cols,3*rows), squeeze=False)\n",
    "    for ax,cid in zip(axs.ravel(), ids):\n",
    "        candle_panel(win3[labels==cid], ax=ax)\n",
    "        ax.set_title(f'CID {cid} • {sum(labels==cid)}', fontsize=8)\n",
    "    for ax in axs.ravel()[len(ids):]: ax.axis('off')\n",
    "    plt.tight_layout(); plt.show()\n",
    "\n",
    "\n",
    "\n",
    "w.interact(show_gallery, win_len=w.Dropdown(options=WIN_LENS.value, description='Win len'))"
   ]
  },
  {
   "cell_type": "markdown",
   "id": "7c67515f",
   "metadata": {},
   "source": [
    "Raw-window drill-down"
   ]
  },
  {
   "cell_type": "code",
   "execution_count": null,
   "id": "543dbd40",
   "metadata": {},
   "outputs": [
    {
     "data": {
      "application/vnd.jupyter.widget-view+json": {
       "model_id": "111a86293d054e0291c8f46b5de1d19f",
       "version_major": 2,
       "version_minor": 0
      },
      "text/plain": [
       "interactive(children=(Dropdown(description='Win len', options=(64, 256), value=64), IntText(value=0, descripti…"
      ]
     },
     "metadata": {},
     "output_type": "display_data"
    },
    {
     "data": {
      "text/plain": [
       "<function __main__.drill_nonoverlap(win_len, cid, n)>"
      ]
     },
     "execution_count": 29,
     "metadata": {},
     "output_type": "execute_result"
    }
   ],
   "source": [
    "def drill_nonoverlap(win_len, cid, n):\n",
    "    windows3 = windows_dict[win_len]\n",
    "    labels   = results[win_len]['labels']\n",
    "    idxs     = np.where(labels == cid)[0]\n",
    "    if len(idxs) == 0:\n",
    "        print(f\"Cluster {cid} empty\")\n",
    "        return\n",
    "\n",
    "    # pick up to n non-overlapping start indices\n",
    "    non_overlap = []\n",
    "    last_end    = -win_len\n",
    "    for i in sorted(idxs):\n",
    "        if i >= last_end + win_len:\n",
    "            non_overlap.append(i)\n",
    "            last_end = i\n",
    "        if len(non_overlap) == n:\n",
    "            break\n",
    "\n",
    "    rows = math.ceil(len(non_overlap) / 3)\n",
    "    fig, axs = plt.subplots(rows, 3, figsize=(5*3, 2.5*rows), squeeze=False)\n",
    "    for ax, start in zip(axs.ravel(), non_overlap):\n",
    "        # plot the single window at [start:start+win_len]\n",
    "        candle_panel(windows3[start:start+1], ax=ax)\n",
    "        ax.set_title(f\"id {start}\", fontsize=8)\n",
    "\n",
    "    # turn off unused axes\n",
    "    for ax in axs.ravel()[len(non_overlap):]:\n",
    "        ax.axis('off')\n",
    "\n",
    "    plt.tight_layout()\n",
    "    plt.show()\n",
    "\n",
    "\n",
    "\n",
    "\n",
    "# hook up the interact UI\n",
    "w.interact(\n",
    "    drill_nonoverlap,\n",
    "    win_len=w.Dropdown(options=WIN_LENS.value, description='Win len'),\n",
    "    cid    =w.IntText(value=0, description='Cluster ID'),\n",
    "    n      =w.IntSlider(value=6, min=1, max=12, description='Samples')\n",
    ")"
   ]
  },
  {
   "cell_type": "markdown",
   "id": "e90e4eeb",
   "metadata": {},
   "source": [
    "Save embeddings & labels"
   ]
  },
  {
   "cell_type": "code",
   "execution_count": null,
   "id": "589074f9",
   "metadata": {},
   "outputs": [],
   "source": [
    "for L, res in results.items():\n",
    "    np.savez_compressed(f'embeddings_L{L}.npz',\n",
    "                        Z=res['Z'], labels=res['labels'])\n",
    "print('All embeddings saved.')"
   ]
  },
  {
   "cell_type": "markdown",
   "id": "c64e06a6",
   "metadata": {},
   "source": [
    "Next steps"
   ]
  },
  {
   "cell_type": "code",
   "execution_count": null,
   "id": "6776753e",
   "metadata": {},
   "outputs": [],
   "source": []
  }
 ],
 "metadata": {
  "kernelspec": {
   "display_name": ".venv",
   "language": "python",
   "name": "python3"
  },
  "language_info": {
   "codemirror_mode": {
    "name": "ipython",
    "version": 3
   },
   "file_extension": ".py",
   "mimetype": "text/x-python",
   "name": "python",
   "nbconvert_exporter": "python",
   "pygments_lexer": "ipython3",
   "version": "3.11.9"
  }
 },
 "nbformat": 4,
 "nbformat_minor": 5
}
