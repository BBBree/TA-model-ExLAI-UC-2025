{
 "cells": [
  {
   "cell_type": "markdown",
   "id": "f2750126",
   "metadata": {},
   "source": [
    "Imports & helper defs "
   ]
  },
  {
   "cell_type": "code",
   "execution_count": null,
   "id": "bbd61140",
   "metadata": {},
   "outputs": [],
   "source": [
    "import numpy as np, pandas as pd, matplotlib.pyplot as plt, math, random, os\n",
    "from pathlib import Path\n",
    "import yfinance as yf, mplfinance as mpf, plotly.express as px\n",
    "from ts2vec import TS2Vec\n",
    "from sklearn.cluster import DBSCAN\n",
    "#import hdbscan, torch, ipywidgets as w\n",
    "from sklearn.preprocessing import StandardScaler\n",
    "\n",
    "from ipywidgets import Layout \n",
    "\n",
    "def make_windows_multich(arr2d, size=256, stride=1):\n",
    "    T, C = arr2d.shape\n",
    "    if T < size:\n",
    "        # return an “empty” windows array\n",
    "        return np.zeros((0, size, C), dtype=arr2d.dtype)\n",
    "    n = (T - size)//stride + 1\n",
    "    return np.stack([arr2d[i*stride:i*stride+size] for i in range(n)])\n",
    "\n",
    "def standardise_ohlcv(df, log_volume=True):\n",
    "    df = df.copy()\n",
    "    if log_volume:\n",
    "        df['Volume'] = np.log1p(df['Volume'])\n",
    "    return (df - df.mean()) / df.std()\n",
    "\n",
    "def candle_panel(members, ax=None):\n",
    "    \"\"\"\n",
    "    Plot the average window in full candlestick + volume style.\n",
    "    `members` is an array of shape (n_windows, win_len, 5).\n",
    "    \"\"\"\n",
    "    # 1) compute prototype\n",
    "    proto = members.mean(axis=0)  # shape (win_len, 5)\n",
    "\n",
    "    # 2) build a DataFrame with a dummy minute-based index\n",
    "    df = pd.DataFrame(\n",
    "        proto,\n",
    "        columns=['Open','High','Low','Close','Volume'],\n",
    "        index=pd.date_range('2000-01-01', periods=len(proto), freq='min')\n",
    "    )\n",
    "    df.replace([np.inf, -np.inf], np.nan, inplace=True)\n",
    "    df.dropna(inplace=True)\n",
    "    if df.empty:\n",
    "        if ax: ax.axis('off')\n",
    "        return\n",
    "\n",
    "    # 3) plot candlestick only\n",
    "    own_fig = False\n",
    "    if ax is None:\n",
    "        fig, ax = plt.subplots(figsize=(6,4))\n",
    "        own_fig = True\n",
    "\n",
    "    mpf.plot(\n",
    "        df,\n",
    "        type='candle',\n",
    "        style='charles',\n",
    "        volume=False,   # disable built-in volume\n",
    "        ax=ax,\n",
    "        tight_layout=True\n",
    "    )\n",
    "\n",
    "    # 4) overlay volume bars on a twin axis\n",
    "    ax2 = ax.twinx()\n",
    "    ax2.bar(df.index, df['Volume'], color='#bbb', alpha=.3, width=1)\n",
    "    ax2.axis('off')\n",
    "    ax.axis('off')\n",
    "\n",
    "    if own_fig:\n",
    "        plt.show()\n",
    "\n",
    "def gallery_panel(members, ax=None):\n",
    "    proto = members.mean(0)\n",
    "    df = pd.DataFrame(proto,\n",
    "                      columns=['Open','High','Low','Close','Volume'],\n",
    "                      index=pd.date_range('2000-01-01', periods=len(proto)))\n",
    "    df.replace([np.inf,-np.inf], np.nan, inplace=True)\n",
    "    df.dropna(inplace=True)\n",
    "    if df.empty:\n",
    "        if ax: ax.axis('off'); return\n",
    "    own = False\n",
    "    if ax is None:\n",
    "        fig, ax = plt.subplots(figsize=(6,3)); own=True\n",
    "    mpf.plot(df, ax=ax, type='line', style='charles',\n",
    "             volume=False, tight_layout=True)\n",
    "    ax2 = ax.twinx()\n",
    "    ax2.bar(df.index, df['Volume'], color='#bbb', alpha=.3, width=1)\n",
    "    ax2.axis('off'); ax.axis('off')\n",
    "    if own: plt.show()\n",
    "\n",
    "def inspect_cluster(windows3, labels, cid, n=6):\n",
    "    idx = np.where(labels==cid)[0]\n",
    "    if len(idx)==0:\n",
    "        print('Cluster empty'); return\n",
    "    samp = np.random.choice(idx, min(n,len(idx)), replace=False)\n",
    "    rows = math.ceil(len(samp)/3)\n",
    "    fig, axs = plt.subplots(rows,3, figsize=(12,2.5*rows))\n",
    "    for ax,i in zip(axs.ravel(), samp):\n",
    "        gallery_panel(windows3[i:i+1], ax=ax)\n",
    "        ax.set_title(f'id {i}', fontsize=8)\n",
    "    for ax in axs.ravel()[len(samp):]: ax.axis('off')\n",
    "    plt.tight_layout(); plt.show()\n",
    "\n",
    "def save_model(enc, path):\n",
    "    # use the model’s own save method\n",
    "    enc.save(path)\n",
    "\n",
    "def load_model(path, input_dims, device='cpu'):\n",
    "    # re-instantiate and then call its load() method\n",
    "    enc = TS2Vec(input_dims=input_dims, device=device)\n",
    "    enc.load(path)\n",
    "    return enc"
   ]
  },
  {
   "cell_type": "code",
   "execution_count": null,
   "id": "cdadeb62",
   "metadata": {},
   "outputs": [],
   "source": [
    "import torch\n",
    "print(torch.cuda.is_available())\n",
    "print(torch.cuda.device_count())\n",
    "print(torch.cuda.get_device_name(0) if torch.cuda.is_available() else \"No GPU\")\n",
    "\n",
    "print(torch.version.cuda)\n",
    "print(torch.backends.cudnn.version())"
   ]
  },
  {
   "cell_type": "markdown",
   "id": "0e1d6959",
   "metadata": {},
   "source": [
    "Interactive config panel"
   ]
  },
  {
   "cell_type": "code",
   "execution_count": 27,
   "id": "96a6592e",
   "metadata": {},
   "outputs": [
    {
     "data": {
      "application/vnd.jupyter.widget-view+json": {
       "model_id": "20223b8b1c674a53857d84e08e540177",
       "version_major": 2,
       "version_minor": 0
      },
      "text/plain": [
       "VBox(children=(SelectMultiple(description='Tickers', index=(0, 1), options=('AAPL', 'MSFT', 'AMZN', 'NVDA', 'G…"
      ]
     },
     "metadata": {},
     "output_type": "display_data"
    }
   ],
   "source": [
    "import pandas as pd\n",
    "import ipywidgets as w\n",
    "from ipywidgets import Layout\n",
    "\n",
    "# --- existing widgets ---\n",
    "TICKERS   = w.SelectMultiple(options=['AAPL','MSFT','AMZN','NVDA','GOOGL','TSLA'],\n",
    "                             value=('AAPL','MSFT'), description='Tickers')\n",
    "dates     = pd.date_range('2000-01-01','2025-12-31',freq='MS')\n",
    "DATE_RANGE= w.SelectionRangeSlider(options=dates,\n",
    "                                   value=(dates[0], dates[-1]),\n",
    "                                   description='Dates',\n",
    "                                   layout=Layout(width='700px'),\n",
    "                                   continuous_update=False)\n",
    "WIN_LENS  = w.SelectMultiple(options=[8,16,32,64,128,256], value=(64,256),\n",
    "                             description='Win lens')\n",
    "LOG_VOL   = w.Checkbox(value=True, description='log1p Volume')\n",
    "EPS       = w.FloatSlider(value=0.9, min=0.2, max=2, step=0.1,\n",
    "                          description='eps')\n",
    "MIN_SAMP  = w.IntSlider(value=5, min=2, max=15, step=1,\n",
    "                        description='min_samples')\n",
    "MIN_SIZE  = w.IntSlider(value=5, min=1, max=30, step=1,\n",
    "                        description='MIN_SIZE')\n",
    "\n",
    "# --- new TS2Vec hyper-params ---\n",
    "N_EPOCHS = w.IntSlider(\n",
    "    value=50,            # default 50 epochs\n",
    "    min=1,\n",
    "    max=200,\n",
    "    step=1,\n",
    "    description='n_epochs'\n",
    ")\n",
    "OUTPUT_DIMS = w.IntText(value=512, description='output_dims')\n",
    "HIDDEN_DIMS = w.IntText(value=128, description='hidden_dims')\n",
    "DEPTH       = w.IntSlider(value=12, min=1, max=20, step=1,\n",
    "                          description='depth')\n",
    "LR          = w.FloatLogSlider(value=0.001, base=10,\n",
    "                               min=-5, max=0, step=0.1,\n",
    "                               description='lr')\n",
    "BATCH_SIZE  = w.IntSlider(value=16, min=1, max=128, step=1,\n",
    "                          description='batch_size')\n",
    "\n",
    "# --- display everything together ---\n",
    "display(w.VBox([\n",
    "    TICKERS,\n",
    "    DATE_RANGE,\n",
    "    WIN_LENS,\n",
    "    LOG_VOL,\n",
    "    EPS,\n",
    "    MIN_SAMP,\n",
    "    MIN_SIZE,\n",
    "    # TS2Vec block:\n",
    "    OUTPUT_DIMS,\n",
    "    HIDDEN_DIMS,\n",
    "    DEPTH,\n",
    "    LR,\n",
    "    BATCH_SIZE,\n",
    "    N_EPOCHS\n",
    "]))"
   ]
  },
  {
   "cell_type": "markdown",
   "id": "5f0dc9c0",
   "metadata": {},
   "source": [
    "Download & standardise"
   ]
  },
  {
   "cell_type": "code",
   "execution_count": 31,
   "id": "175230a9",
   "metadata": {},
   "outputs": [
    {
     "name": "stdout",
     "output_type": "stream",
     "text": [
      "Ticker\n",
      "AAPL    6416\n",
      "dtype: int64\n"
     ]
    }
   ],
   "source": [
    "cols = ['Open','High','Low','Close','Volume']\n",
    "start = DATE_RANGE.value[0].strftime('%Y-%m-%d')\n",
    "end   = DATE_RANGE.value[1].strftime('%Y-%m-%d')\n",
    "\n",
    "dfs = []\n",
    "for tkr in TICKERS.value:\n",
    "    df = yf.download(tkr, start=start, end=end,\n",
    "                     auto_adjust=False, progress=False)[cols]\n",
    "    df['Ticker'] = tkr\n",
    "    dfs.append(df)\n",
    "raw_df = pd.concat(dfs).dropna()\n",
    "print(raw_df.groupby('Ticker').size())\n",
    "\n",
    "std_df = standardise_ohlcv(raw_df[cols], log_volume=LOG_VOL.value)\n",
    "data_np = std_df.values"
   ]
  },
  {
   "cell_type": "markdown",
   "id": "d034b5a0",
   "metadata": {},
   "source": [
    "Windowing"
   ]
  },
  {
   "cell_type": "code",
   "execution_count": 32,
   "id": "37c51bca",
   "metadata": {},
   "outputs": [
    {
     "name": "stdout",
     "output_type": "stream",
     "text": [
      "Len 8: (6409, 8, 5)\n"
     ]
    }
   ],
   "source": [
    "windows_dict = {}\n",
    "for L in WIN_LENS.value:\n",
    "    windows_dict[L] = make_windows_multich(data_np, size=L, stride=1)\n",
    "    print(f'Len {L}:', windows_dict[L].shape)"
   ]
  },
  {
   "cell_type": "markdown",
   "id": "d5e1bf8f",
   "metadata": {},
   "source": [
    "Train or load TS2Vec"
   ]
  },
  {
   "cell_type": "code",
   "execution_count": 33,
   "id": "36954300",
   "metadata": {},
   "outputs": [
    {
     "name": "stdout",
     "output_type": "stream",
     "text": [
      "cpu\n",
      "Epoch #0: loss=1.7723607510328292\n",
      "Epoch #1: loss=1.4731387649476528\n",
      "Epoch #2: loss=1.3461701561510564\n",
      "Epoch #3: loss=1.2290933783352376\n",
      "Epoch #4: loss=1.1489732201397418\n",
      "💾 Model trained & saved → ts2vec_ohlcv_L8.pt\n"
     ]
    }
   ],
   "source": [
    "device     = 'cuda' if torch.cuda.is_available() else 'cpu'\n",
    "input_dims = 5\n",
    "print(device)\n",
    "encoders = {}\n",
    "\n",
    "for L, win3 in windows_dict.items():\n",
    "    n_wins = win3.shape[0]\n",
    "    PATH  = f'ts2vec_ohlcv_L{L}.pt'\n",
    "\n",
    "    # 1) Skip any window‐length that produced zero windows\n",
    "    if n_wins == 0:\n",
    "        print(f\"⚠️  Skipping L={L}: no windows (data length < {L})\")\n",
    "        continue\n",
    "\n",
    "    # 2) Load or train as before\n",
    "    if Path(PATH).exists():\n",
    "        enc = load_model(PATH, input_dims, device=device)\n",
    "        print(f'✅ Loaded model for window length {L}.')\n",
    "    else:\n",
    "        enc = encoder = TS2Vec(\n",
    "            input_dims   = input_dims,\n",
    "            output_dims  = OUTPUT_DIMS.value,\n",
    "            hidden_dims  = HIDDEN_DIMS.value,\n",
    "            depth        = DEPTH.value,\n",
    "            device       = device,\n",
    "            lr           = LR.value,\n",
    "            batch_size   = BATCH_SIZE.value)\n",
    "        enc.fit(win3, n_epochs=N_EPOCHS.value, verbose=True)\n",
    "        save_model(enc, PATH)\n",
    "        print(f'💾 Model trained & saved → {PATH}')\n",
    "\n",
    "    encoders[L] = enc\n",
    "   "
   ]
  },
  {
   "cell_type": "markdown",
   "id": "4f5e9fe8",
   "metadata": {},
   "source": [
    "mbedding + clustering"
   ]
  },
  {
   "cell_type": "code",
   "execution_count": 34,
   "id": "50af964a",
   "metadata": {},
   "outputs": [
    {
     "name": "stdout",
     "output_type": "stream",
     "text": [
      "L=8: {np.int64(-1): np.int64(6393), np.int64(0): np.int64(5), np.int64(1): np.int64(6), np.int64(2): np.int64(5)}\n"
     ]
    }
   ],
   "source": [
    "results = {}\n",
    "for L, win3 in windows_dict.items():\n",
    "    Z = encoder.encode(win3).mean(axis=1)\n",
    "    Z_scaled = StandardScaler().fit_transform(Z)\n",
    "    labels = DBSCAN(eps=EPS.value, min_samples=MIN_SAMP.value).fit_predict(Z_scaled)\n",
    "    if (labels==-1).all():  # fallback\n",
    "        labels = hdbscan.HDBSCAN(min_cluster_size=MIN_SAMP.value,\n",
    "                                 min_samples=MIN_SAMP.value).fit_predict(Z_scaled)\n",
    "    results[L] = dict(labels=labels, Z=Z_scaled)\n",
    "    print(f'L={L}:', dict(zip(*np.unique(labels, return_counts=True))))"
   ]
  },
  {
   "cell_type": "markdown",
   "id": "2c0e9b62",
   "metadata": {},
   "source": [
    "Interactive pattern gallery"
   ]
  },
  {
   "cell_type": "code",
   "execution_count": 35,
   "id": "879aab5f",
   "metadata": {},
   "outputs": [
    {
     "data": {
      "application/vnd.jupyter.widget-view+json": {
       "model_id": "c322ba6328914577b69df1e748a19a15",
       "version_major": 2,
       "version_minor": 0
      },
      "text/plain": [
       "interactive(children=(Dropdown(description='Win len', options=(8,), value=8), Output()), _dom_classes=('widget…"
      ]
     },
     "metadata": {},
     "output_type": "display_data"
    },
    {
     "data": {
      "text/plain": [
       "<function __main__.show_gallery(win_len)>"
      ]
     },
     "execution_count": 35,
     "metadata": {},
     "output_type": "execute_result"
    }
   ],
   "source": [
    "def show_gallery(win_len):\n",
    "    labels = results[win_len]['labels']\n",
    "    win3   = windows_dict[win_len]\n",
    "    ids = [cid for cid,cnt in zip(*np.unique(labels, return_counts=True))\n",
    "           if cid!=-1 and cnt>=MIN_SIZE.value]\n",
    "    if not ids:\n",
    "        print('No clusters ≥', MIN_SIZE.value); return\n",
    "    cols=3; rows=math.ceil(len(ids)/cols)\n",
    "    fig,axs=plt.subplots(rows,cols,figsize=(5*cols,3*rows), squeeze=False)\n",
    "    for ax,cid in zip(axs.ravel(), ids):\n",
    "        candle_panel(win3[labels==cid], ax=ax)\n",
    "        ax.set_title(f'CID {cid} • {sum(labels==cid)}', fontsize=8)\n",
    "    for ax in axs.ravel()[len(ids):]: ax.axis('off')\n",
    "    plt.tight_layout(); plt.show()\n",
    "\n",
    "\n",
    "\n",
    "w.interact(show_gallery, win_len=w.Dropdown(options=WIN_LENS.value, description='Win len'))"
   ]
  },
  {
   "cell_type": "markdown",
   "id": "7c67515f",
   "metadata": {},
   "source": [
    "Raw-window drill-down"
   ]
  },
  {
   "cell_type": "code",
   "execution_count": null,
   "id": "543dbd40",
   "metadata": {},
   "outputs": [
    {
     "data": {
      "application/vnd.jupyter.widget-view+json": {
       "model_id": "055dc6eee6af4588a1fb121c60f346a7",
       "version_major": 2,
       "version_minor": 0
      },
      "text/plain": [
       "interactive(children=(Dropdown(description='Win len', options=(8,), value=8), IntText(value=0, description='Cl…"
      ]
     },
     "metadata": {},
     "output_type": "display_data"
    },
    {
     "data": {
      "text/plain": [
       "<function __main__.drill_nonoverlap(win_len, cid, n)>"
      ]
     },
     "execution_count": 36,
     "metadata": {},
     "output_type": "execute_result"
    }
   ],
   "source": [
    "def drill_nonoverlap(win_len, cid, n):\n",
    "    windows3 = windows_dict[win_len]\n",
    "    labels   = results[win_len]['labels']\n",
    "    idxs     = np.where(labels == cid)[0]\n",
    "    if len(idxs) == 0:\n",
    "        print(f\"Cluster {cid} empty\")\n",
    "        return\n",
    "\n",
    "    # pick up to n non-overlapping start indices\n",
    "    non_overlap = []\n",
    "    last_end    = -win_len\n",
    "    for i in sorted(idxs):\n",
    "        if i >= last_end + win_len:\n",
    "            non_overlap.append(i)\n",
    "            last_end = i\n",
    "        if len(non_overlap) == n:\n",
    "            break\n",
    "\n",
    "    rows = math.ceil(len(non_overlap) / 3)\n",
    "    fig, axs = plt.subplots(rows, 3, figsize=(5*3, 2.5*rows), squeeze=False)\n",
    "    for ax, start in zip(axs.ravel(), non_overlap):\n",
    "        # plot the single window at [start:start+win_len]\n",
    "        candle_panel(windows3[start:start+1], ax=ax)\n",
    "        ax.set_title(f\"id {start}\", fontsize=8)\n",
    "\n",
    "    # turn off unused axes\n",
    "    for ax in axs.ravel()[len(non_overlap):]:\n",
    "        ax.axis('off')\n",
    "\n",
    "    plt.tight_layout()\n",
    "    plt.show()\n",
    "\n",
    "\n",
    "\n",
    "\n",
    "# hook up the interact UI\n",
    "w.interact(\n",
    "    drill_nonoverlap,\n",
    "    win_len=w.Dropdown(options=WIN_LENS.value, description='Win len'),\n",
    "    cid    =w.IntText(value=0, description='Cluster ID'),\n",
    "    n      =w.IntSlider(value=6, min=1, max=12, description='Samples')\n",
    ")"
   ]
  },
  {
   "cell_type": "markdown",
   "id": "e90e4eeb",
   "metadata": {},
   "source": [
    "Save embeddings & labels"
   ]
  },
  {
   "cell_type": "code",
   "execution_count": null,
   "id": "589074f9",
   "metadata": {},
   "outputs": [],
   "source": [
    "for L, res in results.items():\n",
    "    np.savez_compressed(f'embeddings_L{L}.npz',\n",
    "                        Z=res['Z'], labels=res['labels'])\n",
    "print('All embeddings saved.')"
   ]
  },
  {
   "cell_type": "markdown",
   "id": "c64e06a6",
   "metadata": {},
   "source": [
    "Next steps"
   ]
  },
  {
   "cell_type": "code",
   "execution_count": null,
   "id": "6776753e",
   "metadata": {},
   "outputs": [],
   "source": []
  }
 ],
 "metadata": {
  "kernelspec": {
   "display_name": "Python 3",
   "language": "python",
   "name": "python3"
  },
  "language_info": {
   "codemirror_mode": {
    "name": "ipython",
    "version": 3
   },
   "file_extension": ".py",
   "mimetype": "text/x-python",
   "name": "python",
   "nbconvert_exporter": "python",
   "pygments_lexer": "ipython3",
   "version": "3.13.4"
  }
 },
 "nbformat": 4,
 "nbformat_minor": 5
}
