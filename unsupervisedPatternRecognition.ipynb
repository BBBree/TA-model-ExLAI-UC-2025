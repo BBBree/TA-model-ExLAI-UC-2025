{
 "cells": [
  {
   "cell_type": "markdown",
   "id": "f2750126",
   "metadata": {},
   "source": [
    "Imports & helper defs "
   ]
  },
  {
   "cell_type": "code",
   "execution_count": 8,
   "id": "bbd61140",
   "metadata": {},
   "outputs": [],
   "source": [
    "import numpy as np, pandas as pd, matplotlib.pyplot as plt, math, random, os\n",
    "from pathlib import Path\n",
    "import yfinance as yf, mplfinance as mpf, plotly.express as px\n",
    "from ts2vec import TS2Vec\n",
    "from sklearn.cluster import DBSCAN\n",
    "import hdbscan, torch, ipywidgets as w\n",
    "from sklearn.preprocessing import StandardScaler\n",
    "\n",
    "from ipywidgets import Layout \n",
    "\n",
    "def make_windows_multich(arr2d, size=256, stride=1):\n",
    "    T, C = arr2d.shape\n",
    "    if T < size:\n",
    "        # return an “empty” windows array\n",
    "        return np.zeros((0, size, C), dtype=arr2d.dtype)\n",
    "    n = (T - size)//stride + 1\n",
    "    return np.stack([arr2d[i*stride:i*stride+size] for i in range(n)])\n",
    "\n",
    "def standardise_ohlcv(df, log_volume=True):\n",
    "    df = df.copy()\n",
    "    if log_volume:\n",
    "        df['Volume'] = np.log1p(df['Volume'])\n",
    "    return (df - df.mean()) / df.std()\n",
    "\n",
    "def candle_panel(members, ax=None):\n",
    "    \"\"\"\n",
    "    Plot the average window in full candlestick + volume style.\n",
    "    `members` is an array of shape (n_windows, win_len, 5).\n",
    "    \"\"\"\n",
    "    # 1) compute prototype\n",
    "    proto = members.mean(axis=0)  # shape (win_len, 5)\n",
    "\n",
    "    # 2) build a DataFrame with a dummy minute-based index\n",
    "    df = pd.DataFrame(\n",
    "        proto,\n",
    "        columns=['Open','High','Low','Close','Volume'],\n",
    "        index=pd.date_range('2000-01-01', periods=len(proto), freq='min')\n",
    "    )\n",
    "    df.replace([np.inf, -np.inf], np.nan, inplace=True)\n",
    "    df.dropna(inplace=True)\n",
    "    if df.empty:\n",
    "        if ax: ax.axis('off')\n",
    "        return\n",
    "\n",
    "    # 3) plot candlestick only\n",
    "    own_fig = False\n",
    "    if ax is None:\n",
    "        fig, ax = plt.subplots(figsize=(6,4))\n",
    "        own_fig = True\n",
    "\n",
    "    mpf.plot(\n",
    "        df,\n",
    "        type='candle',\n",
    "        style='charles',\n",
    "        volume=False,   # disable built-in volume\n",
    "        ax=ax,\n",
    "        tight_layout=True\n",
    "    )\n",
    "\n",
    "    # 4) overlay volume bars on a twin axis\n",
    "    ax2 = ax.twinx()\n",
    "    ax2.bar(df.index, df['Volume'], color='#bbb', alpha=.3, width=1)\n",
    "    ax2.axis('off')\n",
    "    ax.axis('off')\n",
    "\n",
    "    if own_fig:\n",
    "        plt.show()\n",
    "\n",
    "def gallery_panel(members, ax=None):\n",
    "    proto = members.mean(0)\n",
    "    df = pd.DataFrame(proto,\n",
    "                      columns=['Open','High','Low','Close','Volume'],\n",
    "                      index=pd.date_range('2000-01-01', periods=len(proto)))\n",
    "    df.replace([np.inf,-np.inf], np.nan, inplace=True)\n",
    "    df.dropna(inplace=True)\n",
    "    if df.empty:\n",
    "        if ax: ax.axis('off'); return\n",
    "    own = False\n",
    "    if ax is None:\n",
    "        fig, ax = plt.subplots(figsize=(6,3)); own=True\n",
    "    mpf.plot(df, ax=ax, type='line', style='charles',\n",
    "             volume=False, tight_layout=True)\n",
    "    ax2 = ax.twinx()\n",
    "    ax2.bar(df.index, df['Volume'], color='#bbb', alpha=.3, width=1)\n",
    "    ax2.axis('off'); ax.axis('off')\n",
    "    if own: plt.show()\n",
    "\n",
    "def inspect_cluster(windows3, labels, cid, n=6):\n",
    "    idx = np.where(labels==cid)[0]\n",
    "    if len(idx)==0:\n",
    "        print('Cluster empty'); return\n",
    "    samp = np.random.choice(idx, min(n,len(idx)), replace=False)\n",
    "    rows = math.ceil(len(samp)/3)\n",
    "    fig, axs = plt.subplots(rows,3, figsize=(12,2.5*rows))\n",
    "    for ax,i in zip(axs.ravel(), samp):\n",
    "        gallery_panel(windows3[i:i+1], ax=ax)\n",
    "        ax.set_title(f'id {i}', fontsize=8)\n",
    "    for ax in axs.ravel()[len(samp):]: ax.axis('off')\n",
    "    plt.tight_layout(); plt.show()\n",
    "\n",
    "def save_model(enc, path):\n",
    "    # use the model’s own save method\n",
    "    enc.save(path)\n",
    "\n",
    "def load_model(path, input_dims, device='cpu'):\n",
    "    # re-instantiate and then call its load() method\n",
    "    enc = TS2Vec(input_dims=input_dims, device=device)\n",
    "    enc.load(path)\n",
    "    return enc"
   ]
  },
  {
   "cell_type": "code",
   "execution_count": 1,
   "id": "cdadeb62",
   "metadata": {},
   "outputs": [
    {
     "name": "stdout",
     "output_type": "stream",
     "text": [
      "True\n",
      "1\n",
      "NVIDIA GeForce RTX 4080 Laptop GPU\n",
      "12.1\n",
      "90100\n"
     ]
    }
   ],
   "source": [
    "import torch\n",
    "print(torch.cuda.is_available())\n",
    "print(torch.cuda.device_count())\n",
    "print(torch.cuda.get_device_name(0) if torch.cuda.is_available() else \"No GPU\")\n",
    "\n",
    "print(torch.version.cuda)\n",
    "print(torch.backends.cudnn.version())"
   ]
  },
  {
   "cell_type": "markdown",
   "id": "0e1d6959",
   "metadata": {},
   "source": [
    "Interactive config panel"
   ]
  },
  {
   "cell_type": "code",
   "execution_count": 3,
   "id": "96a6592e",
   "metadata": {},
   "outputs": [
    {
     "data": {
      "application/vnd.jupyter.widget-view+json": {
       "model_id": "1c4ff5da42c24be9a608f4801c67890d",
       "version_major": 2,
       "version_minor": 0
      },
      "text/plain": [
       "VBox(children=(SelectMultiple(description='Tickers', index=(0, 1), options=('AAPL', 'MSFT', 'AMZN', 'NVDA', 'G…"
      ]
     },
     "metadata": {},
     "output_type": "display_data"
    }
   ],
   "source": [
    "import pandas as pd\n",
    "import ipywidgets as w\n",
    "from ipywidgets import Layout\n",
    "\n",
    "# --- existing widgets ---\n",
    "TICKERS   = w.SelectMultiple(options=['AAPL','MSFT','AMZN','NVDA','GOOGL','TSLA'],\n",
    "                             value=('AAPL','MSFT'), description='Tickers')\n",
    "dates     = pd.date_range('2000-01-01','2025-12-31',freq='MS')\n",
    "DATE_RANGE= w.SelectionRangeSlider(options=dates,\n",
    "                                   value=(dates[0], dates[-1]),\n",
    "                                   description='Dates',\n",
    "                                   layout=Layout(width='700px'),\n",
    "                                   continuous_update=False)\n",
    "WIN_LENS  = w.SelectMultiple(options=[32,64,128,256], value=(64,256),\n",
    "                             description='Win lens')\n",
    "LOG_VOL   = w.Checkbox(value=True, description='log1p Volume')\n",
    "EPS       = w.FloatSlider(value=0.9, min=0.2, max=2, step=0.1,\n",
    "                          description='eps')\n",
    "MIN_SAMP  = w.IntSlider(value=5, min=2, max=15, step=1,\n",
    "                        description='min_samples')\n",
    "MIN_SIZE  = w.IntSlider(value=5, min=1, max=30, step=1,\n",
    "                        description='MIN_SIZE')\n",
    "\n",
    "# --- new TS2Vec hyper-params ---\n",
    "N_EPOCHS = w.IntSlider(\n",
    "    value=50,            # default 50 epochs\n",
    "    min=1,\n",
    "    max=200,\n",
    "    step=1,\n",
    "    description='n_epochs'\n",
    ")\n",
    "OUTPUT_DIMS = w.IntText(value=512, description='output_dims')\n",
    "HIDDEN_DIMS = w.IntText(value=128, description='hidden_dims')\n",
    "DEPTH       = w.IntSlider(value=12, min=1, max=20, step=1,\n",
    "                          description='depth')\n",
    "LR          = w.FloatLogSlider(value=0.001, base=10,\n",
    "                               min=-5, max=0, step=0.1,\n",
    "                               description='lr')\n",
    "BATCH_SIZE  = w.IntSlider(value=16, min=1, max=128, step=1,\n",
    "                          description='batch_size')\n",
    "\n",
    "# --- display everything together ---\n",
    "display(w.VBox([\n",
    "    TICKERS,\n",
    "    DATE_RANGE,\n",
    "    WIN_LENS,\n",
    "    LOG_VOL,\n",
    "    EPS,\n",
    "    MIN_SAMP,\n",
    "    MIN_SIZE,\n",
    "    # TS2Vec block:\n",
    "    OUTPUT_DIMS,\n",
    "    HIDDEN_DIMS,\n",
    "    DEPTH,\n",
    "    LR,\n",
    "    BATCH_SIZE,\n",
    "    N_EPOCHS\n",
    "]))"
   ]
  },
  {
   "cell_type": "markdown",
   "id": "5f0dc9c0",
   "metadata": {},
   "source": [
    "Download & standardise"
   ]
  },
  {
   "cell_type": "code",
   "execution_count": 4,
   "id": "175230a9",
   "metadata": {},
   "outputs": [
    {
     "name": "stdout",
     "output_type": "stream",
     "text": [
      "Ticker\n",
      "AAPL    6414\n",
      "dtype: int64\n"
     ]
    }
   ],
   "source": [
    "cols = ['Open','High','Low','Close','Volume']\n",
    "start = DATE_RANGE.value[0].strftime('%Y-%m-%d')\n",
    "end   = DATE_RANGE.value[1].strftime('%Y-%m-%d')\n",
    "\n",
    "dfs = []\n",
    "for tkr in TICKERS.value:\n",
    "    df = yf.download(tkr, start=start, end=end,\n",
    "                     auto_adjust=False, progress=False)[cols]\n",
    "    df['Ticker'] = tkr\n",
    "    dfs.append(df)\n",
    "raw_df = pd.concat(dfs).dropna()\n",
    "print(raw_df.groupby('Ticker').size())\n",
    "\n",
    "std_df = standardise_ohlcv(raw_df[cols], log_volume=LOG_VOL.value)\n",
    "data_np = std_df.values"
   ]
  },
  {
   "cell_type": "markdown",
   "id": "d034b5a0",
   "metadata": {},
   "source": [
    "Windowing"
   ]
  },
  {
   "cell_type": "code",
   "execution_count": 5,
   "id": "37c51bca",
   "metadata": {},
   "outputs": [
    {
     "name": "stdout",
     "output_type": "stream",
     "text": [
      "Len 32: (6383, 32, 5)\n",
      "Len 64: (6351, 64, 5)\n",
      "Len 128: (6287, 128, 5)\n",
      "Len 256: (6159, 256, 5)\n"
     ]
    }
   ],
   "source": [
    "windows_dict = {}\n",
    "for L in WIN_LENS.value:\n",
    "    windows_dict[L] = make_windows_multich(data_np, size=L, stride=1)\n",
    "    print(f'Len {L}:', windows_dict[L].shape)"
   ]
  },
  {
   "cell_type": "markdown",
   "id": "d5e1bf8f",
   "metadata": {},
   "source": [
    "Train or load TS2Vec"
   ]
  },
  {
   "cell_type": "code",
   "execution_count": 6,
   "id": "36954300",
   "metadata": {},
   "outputs": [
    {
     "name": "stdout",
     "output_type": "stream",
     "text": [
      "cuda\n",
      "Epoch #0: loss=1.9326504840323673\n",
      "Epoch #1: loss=1.3607701612776848\n",
      "Epoch #2: loss=1.2440370090642767\n",
      "Epoch #3: loss=1.1047856613020202\n",
      "Epoch #4: loss=1.110120235151382\n",
      "Epoch #5: loss=1.0225172619424274\n",
      "Epoch #6: loss=0.9472043298596713\n",
      "Epoch #7: loss=0.9423282255030158\n",
      "Epoch #8: loss=0.9893716347576985\n",
      "Epoch #9: loss=0.8892531198772353\n",
      "Epoch #10: loss=0.8761630744940072\n",
      "Epoch #11: loss=0.8360248249978876\n",
      "Epoch #12: loss=0.7911619550768455\n",
      "Epoch #13: loss=0.8270421082050956\n",
      "Epoch #14: loss=0.806080522811293\n",
      "Epoch #15: loss=0.8019573523396224\n",
      "Epoch #16: loss=0.7967723363158691\n",
      "Epoch #17: loss=0.7740945916005115\n",
      "Epoch #18: loss=0.7473593206711151\n",
      "Epoch #19: loss=0.7491241068246975\n",
      "Epoch #20: loss=0.7125890580703266\n",
      "Epoch #21: loss=0.7034174811899961\n",
      "Epoch #22: loss=0.6775488217347231\n",
      "Epoch #23: loss=0.6896328289979067\n",
      "Epoch #24: loss=0.684109567435243\n",
      "Epoch #25: loss=0.6726312099689216\n",
      "Epoch #26: loss=0.6703332427832949\n",
      "Epoch #27: loss=0.6032393104466961\n",
      "Epoch #28: loss=0.6916239346616232\n",
      "💾 Model trained & saved → ts2vec_ohlcv_L32.pt\n",
      "Epoch #0: loss=1.8493701213538045\n",
      "Epoch #1: loss=1.3261235645323088\n",
      "Epoch #2: loss=1.159727484138325\n",
      "Epoch #3: loss=1.0392579960100579\n",
      "Epoch #4: loss=0.8804891428562126\n",
      "Epoch #5: loss=0.8095672901983213\n",
      "Epoch #6: loss=0.8514203114642037\n",
      "Epoch #7: loss=0.8401709474397429\n",
      "Epoch #8: loss=0.7816895491095505\n",
      "Epoch #9: loss=0.7649961305838643\n",
      "Epoch #10: loss=0.8488718487999656\n",
      "Epoch #11: loss=0.7184243385839943\n",
      "Epoch #12: loss=0.7851519247498175\n",
      "Epoch #13: loss=0.6854207481850277\n",
      "Epoch #14: loss=0.702779038310653\n",
      "Epoch #15: loss=0.6171031641689214\n",
      "Epoch #16: loss=0.7113501760694716\n",
      "Epoch #17: loss=0.6191342165975859\n",
      "Epoch #18: loss=0.6333480410729394\n",
      "Epoch #19: loss=0.6820864412519667\n",
      "Epoch #20: loss=0.5820986139729167\n",
      "Epoch #21: loss=0.5675701412814435\n",
      "Epoch #22: loss=0.5376233402451481\n",
      "Epoch #23: loss=0.5978201059906771\n",
      "Epoch #24: loss=0.5570542220816468\n",
      "Epoch #25: loss=0.596277370032939\n",
      "Epoch #26: loss=0.5132702764387083\n",
      "Epoch #27: loss=0.588182876281666\n",
      "Epoch #28: loss=0.6104385126193966\n",
      "💾 Model trained & saved → ts2vec_ohlcv_L64.pt\n",
      "Epoch #0: loss=1.9114852815258259\n",
      "Epoch #1: loss=1.1425732369629704\n",
      "Epoch #2: loss=1.0186220981484773\n",
      "Epoch #3: loss=0.8055182065130496\n",
      "Epoch #4: loss=0.8170488433418225\n",
      "Epoch #5: loss=0.715528468126241\n",
      "Epoch #6: loss=0.8235865833655912\n",
      "Epoch #7: loss=0.6885119478161238\n",
      "Epoch #8: loss=0.7327763197221318\n",
      "Epoch #9: loss=0.6175969228604619\n",
      "Epoch #10: loss=0.6083796600982243\n",
      "Epoch #11: loss=0.6209140013979406\n",
      "Epoch #12: loss=0.6295698350865622\n",
      "Epoch #13: loss=0.558284455226088\n",
      "Epoch #14: loss=0.5475411252023614\n",
      "Epoch #15: loss=0.5127289333969963\n",
      "Epoch #16: loss=0.5636564530052093\n",
      "Epoch #17: loss=0.5316128672993913\n",
      "Epoch #18: loss=0.5550331972273332\n",
      "Epoch #19: loss=0.5608586754117694\n",
      "Epoch #20: loss=0.5024034396878311\n",
      "Epoch #21: loss=0.40330385171561217\n",
      "Epoch #22: loss=0.40092825423926115\n",
      "Epoch #23: loss=0.5110900138637849\n",
      "Epoch #24: loss=0.5754139706948582\n",
      "Epoch #25: loss=0.5206158626444486\n",
      "Epoch #26: loss=0.45036730098024924\n",
      "Epoch #27: loss=0.43650314128216433\n",
      "Epoch #28: loss=0.4846219264198931\n",
      "💾 Model trained & saved → ts2vec_ohlcv_L128.pt\n",
      "Epoch #0: loss=1.8738937076802056\n",
      "Epoch #1: loss=0.9859986319206655\n",
      "Epoch #2: loss=0.8797441865317523\n",
      "Epoch #3: loss=0.7180658491173139\n",
      "Epoch #4: loss=0.6636251064871127\n",
      "Epoch #5: loss=0.643432914512232\n",
      "Epoch #6: loss=0.5420973934621239\n",
      "Epoch #7: loss=0.7131969852295393\n",
      "Epoch #8: loss=0.5241554262659823\n",
      "Epoch #9: loss=0.46743502855921787\n",
      "Epoch #10: loss=0.6006904047681019\n",
      "Epoch #11: loss=0.559145976556465\n",
      "Epoch #12: loss=0.3880176547875938\n",
      "Epoch #13: loss=0.4919446801650338\n",
      "Epoch #14: loss=0.40821801727482426\n",
      "Epoch #15: loss=0.5414923774466539\n",
      "Epoch #16: loss=0.45680439171458903\n",
      "Epoch #17: loss=0.5276074655121192\n",
      "Epoch #18: loss=0.38371337672773126\n",
      "Epoch #19: loss=0.4208319369936362\n",
      "Epoch #20: loss=0.3350464866186182\n",
      "Epoch #21: loss=0.3674845692779248\n",
      "Epoch #22: loss=0.47690737585071474\n",
      "Epoch #23: loss=0.4351347797977117\n",
      "Epoch #24: loss=0.40895121536838513\n",
      "Epoch #25: loss=0.42968459697052214\n",
      "Epoch #26: loss=0.29023772846752155\n",
      "Epoch #27: loss=0.43939120704696205\n",
      "Epoch #28: loss=0.3944857142632827\n",
      "💾 Model trained & saved → ts2vec_ohlcv_L256.pt\n"
     ]
    }
   ],
   "source": [
    "device     = 'cuda' if torch.cuda.is_available() else 'cpu'\n",
    "input_dims = 5\n",
    "print(device)\n",
    "encoders = {}\n",
    "\n",
    "for L, win3 in windows_dict.items():\n",
    "    n_wins = win3.shape[0]\n",
    "    PATH  = f'ts2vec_ohlcv_L{L}.pt'\n",
    "\n",
    "    # 1) Skip any window‐length that produced zero windows\n",
    "    if n_wins == 0:\n",
    "        print(f\"⚠️  Skipping L={L}: no windows (data length < {L})\")\n",
    "        continue\n",
    "\n",
    "    # 2) Load or train as before\n",
    "    if Path(PATH).exists():\n",
    "        enc = load_model(PATH, input_dims, device=device)\n",
    "        print(f'✅ Loaded model for window length {L}.')\n",
    "    else:\n",
    "        enc = encoder = TS2Vec(\n",
    "            input_dims   = input_dims,\n",
    "            output_dims  = OUTPUT_DIMS.value,\n",
    "            hidden_dims  = HIDDEN_DIMS.value,\n",
    "            depth        = DEPTH.value,\n",
    "            device       = device,\n",
    "            lr           = LR.value,\n",
    "            batch_size   = BATCH_SIZE.value)\n",
    "        enc.fit(win3, n_epochs=N_EPOCHS.value, verbose=True)\n",
    "        save_model(enc, PATH)\n",
    "        print(f'💾 Model trained & saved → {PATH}')\n",
    "\n",
    "    encoders[L] = enc\n",
    "   "
   ]
  },
  {
   "cell_type": "markdown",
   "id": "4f5e9fe8",
   "metadata": {},
   "source": [
    "mbedding + clustering"
   ]
  },
  {
   "cell_type": "code",
   "execution_count": 9,
   "id": "50af964a",
   "metadata": {},
   "outputs": [
    {
     "name": "stderr",
     "output_type": "stream",
     "text": [
      "c:\\Users\\uslep\\OneDrive\\Desktop\\AI_Team_Repo\\TA-model-ExLAI-UC-2025\\.venv\\Lib\\site-packages\\sklearn\\utils\\deprecation.py:132: FutureWarning: 'force_all_finite' was renamed to 'ensure_all_finite' in 1.6 and will be removed in 1.8.\n",
      "  warnings.warn(\n",
      "c:\\Users\\uslep\\OneDrive\\Desktop\\AI_Team_Repo\\TA-model-ExLAI-UC-2025\\.venv\\Lib\\site-packages\\sklearn\\utils\\deprecation.py:132: FutureWarning: 'force_all_finite' was renamed to 'ensure_all_finite' in 1.6 and will be removed in 1.8.\n",
      "  warnings.warn(\n"
     ]
    },
    {
     "name": "stdout",
     "output_type": "stream",
     "text": [
      "L=32: {np.int64(-1): np.int64(1256), np.int64(0): np.int64(263), np.int64(1): np.int64(6), np.int64(2): np.int64(23), np.int64(3): np.int64(11), np.int64(4): np.int64(35), np.int64(5): np.int64(516), np.int64(6): np.int64(39), np.int64(7): np.int64(6), np.int64(8): np.int64(25), np.int64(9): np.int64(9), np.int64(10): np.int64(27), np.int64(11): np.int64(24), np.int64(12): np.int64(10), np.int64(13): np.int64(29), np.int64(14): np.int64(13), np.int64(15): np.int64(16), np.int64(16): np.int64(24), np.int64(17): np.int64(30), np.int64(18): np.int64(11), np.int64(19): np.int64(18), np.int64(20): np.int64(10), np.int64(21): np.int64(15), np.int64(22): np.int64(46), np.int64(23): np.int64(13), np.int64(24): np.int64(30), np.int64(25): np.int64(7), np.int64(26): np.int64(10), np.int64(27): np.int64(16), np.int64(28): np.int64(24), np.int64(29): np.int64(41), np.int64(30): np.int64(7), np.int64(31): np.int64(14), np.int64(32): np.int64(5), np.int64(33): np.int64(19), np.int64(34): np.int64(31), np.int64(35): np.int64(19), np.int64(36): np.int64(16), np.int64(37): np.int64(5), np.int64(38): np.int64(29), np.int64(39): np.int64(45), np.int64(40): np.int64(36), np.int64(41): np.int64(14), np.int64(42): np.int64(27), np.int64(43): np.int64(19), np.int64(44): np.int64(11), np.int64(45): np.int64(5), np.int64(46): np.int64(15), np.int64(47): np.int64(23), np.int64(48): np.int64(14), np.int64(49): np.int64(6), np.int64(50): np.int64(16), np.int64(51): np.int64(31), np.int64(52): np.int64(25), np.int64(53): np.int64(12), np.int64(54): np.int64(22), np.int64(55): np.int64(17), np.int64(56): np.int64(38), np.int64(57): np.int64(21), np.int64(58): np.int64(9), np.int64(59): np.int64(6), np.int64(60): np.int64(6), np.int64(61): np.int64(20), np.int64(62): np.int64(15), np.int64(63): np.int64(23), np.int64(64): np.int64(12), np.int64(65): np.int64(20), np.int64(66): np.int64(16), np.int64(67): np.int64(45), np.int64(68): np.int64(11), np.int64(69): np.int64(22), np.int64(70): np.int64(6), np.int64(71): np.int64(26), np.int64(72): np.int64(30), np.int64(73): np.int64(26), np.int64(74): np.int64(6), np.int64(75): np.int64(8), np.int64(76): np.int64(22), np.int64(77): np.int64(5), np.int64(78): np.int64(14), np.int64(79): np.int64(5), np.int64(80): np.int64(56), np.int64(81): np.int64(131), np.int64(82): np.int64(29), np.int64(83): np.int64(30), np.int64(84): np.int64(7), np.int64(85): np.int64(10), np.int64(86): np.int64(18), np.int64(87): np.int64(13), np.int64(88): np.int64(7), np.int64(89): np.int64(11), np.int64(90): np.int64(49), np.int64(91): np.int64(52), np.int64(92): np.int64(15), np.int64(93): np.int64(42), np.int64(94): np.int64(13), np.int64(95): np.int64(21), np.int64(96): np.int64(10), np.int64(97): np.int64(11), np.int64(98): np.int64(29), np.int64(99): np.int64(7), np.int64(100): np.int64(10), np.int64(101): np.int64(5), np.int64(102): np.int64(18), np.int64(103): np.int64(5), np.int64(104): np.int64(10), np.int64(105): np.int64(11), np.int64(106): np.int64(26), np.int64(107): np.int64(7), np.int64(108): np.int64(34), np.int64(109): np.int64(25), np.int64(110): np.int64(22), np.int64(111): np.int64(7), np.int64(112): np.int64(8), np.int64(113): np.int64(27), np.int64(114): np.int64(18), np.int64(115): np.int64(13), np.int64(116): np.int64(25), np.int64(117): np.int64(7), np.int64(118): np.int64(13), np.int64(119): np.int64(10), np.int64(120): np.int64(21), np.int64(121): np.int64(5), np.int64(122): np.int64(9), np.int64(123): np.int64(6), np.int64(124): np.int64(7), np.int64(125): np.int64(18), np.int64(126): np.int64(26), np.int64(127): np.int64(27), np.int64(128): np.int64(18), np.int64(129): np.int64(28), np.int64(130): np.int64(24), np.int64(131): np.int64(15), np.int64(132): np.int64(51), np.int64(133): np.int64(20), np.int64(134): np.int64(14), np.int64(135): np.int64(15), np.int64(136): np.int64(18), np.int64(137): np.int64(10), np.int64(138): np.int64(9), np.int64(139): np.int64(32), np.int64(140): np.int64(24), np.int64(141): np.int64(5), np.int64(142): np.int64(21), np.int64(143): np.int64(8), np.int64(144): np.int64(62), np.int64(145): np.int64(18), np.int64(146): np.int64(20), np.int64(147): np.int64(22), np.int64(148): np.int64(7), np.int64(149): np.int64(20), np.int64(150): np.int64(16), np.int64(151): np.int64(38), np.int64(152): np.int64(7), np.int64(153): np.int64(22), np.int64(154): np.int64(6), np.int64(155): np.int64(13), np.int64(156): np.int64(10), np.int64(157): np.int64(22), np.int64(158): np.int64(22), np.int64(159): np.int64(15), np.int64(160): np.int64(10), np.int64(161): np.int64(12), np.int64(162): np.int64(30), np.int64(163): np.int64(26), np.int64(164): np.int64(6), np.int64(165): np.int64(24), np.int64(166): np.int64(10), np.int64(167): np.int64(89), np.int64(168): np.int64(27), np.int64(169): np.int64(21), np.int64(170): np.int64(27), np.int64(171): np.int64(15), np.int64(172): np.int64(13), np.int64(173): np.int64(14), np.int64(174): np.int64(36), np.int64(175): np.int64(21), np.int64(176): np.int64(5), np.int64(177): np.int64(16), np.int64(178): np.int64(10), np.int64(179): np.int64(17), np.int64(180): np.int64(13), np.int64(181): np.int64(9), np.int64(182): np.int64(12), np.int64(183): np.int64(7), np.int64(184): np.int64(20), np.int64(185): np.int64(8), np.int64(186): np.int64(9), np.int64(187): np.int64(12), np.int64(188): np.int64(17), np.int64(189): np.int64(29), np.int64(190): np.int64(26), np.int64(191): np.int64(19), np.int64(192): np.int64(14), np.int64(193): np.int64(8), np.int64(194): np.int64(15), np.int64(195): np.int64(7), np.int64(196): np.int64(11), np.int64(197): np.int64(38), np.int64(198): np.int64(15), np.int64(199): np.int64(13), np.int64(200): np.int64(12), np.int64(201): np.int64(7), np.int64(202): np.int64(11), np.int64(203): np.int64(26), np.int64(204): np.int64(32), np.int64(205): np.int64(11), np.int64(206): np.int64(15), np.int64(207): np.int64(8), np.int64(208): np.int64(10), np.int64(209): np.int64(5), np.int64(210): np.int64(10), np.int64(211): np.int64(8), np.int64(212): np.int64(9), np.int64(213): np.int64(11), np.int64(214): np.int64(6), np.int64(215): np.int64(5), np.int64(216): np.int64(12), np.int64(217): np.int64(6), np.int64(218): np.int64(7), np.int64(219): np.int64(7), np.int64(220): np.int64(21), np.int64(221): np.int64(7), np.int64(222): np.int64(11), np.int64(223): np.int64(17), np.int64(224): np.int64(7), np.int64(225): np.int64(10), np.int64(226): np.int64(7), np.int64(227): np.int64(15), np.int64(228): np.int64(17), np.int64(229): np.int64(8), np.int64(230): np.int64(5), np.int64(231): np.int64(9), np.int64(232): np.int64(7), np.int64(233): np.int64(21), np.int64(234): np.int64(10), np.int64(235): np.int64(7), np.int64(236): np.int64(6), np.int64(237): np.int64(18), np.int64(238): np.int64(8), np.int64(239): np.int64(12), np.int64(240): np.int64(9), np.int64(241): np.int64(6), np.int64(242): np.int64(68), np.int64(243): np.int64(12), np.int64(244): np.int64(5)}\n"
     ]
    },
    {
     "name": "stderr",
     "output_type": "stream",
     "text": [
      "c:\\Users\\uslep\\OneDrive\\Desktop\\AI_Team_Repo\\TA-model-ExLAI-UC-2025\\.venv\\Lib\\site-packages\\sklearn\\utils\\deprecation.py:132: FutureWarning: 'force_all_finite' was renamed to 'ensure_all_finite' in 1.6 and will be removed in 1.8.\n",
      "  warnings.warn(\n",
      "c:\\Users\\uslep\\OneDrive\\Desktop\\AI_Team_Repo\\TA-model-ExLAI-UC-2025\\.venv\\Lib\\site-packages\\sklearn\\utils\\deprecation.py:132: FutureWarning: 'force_all_finite' was renamed to 'ensure_all_finite' in 1.6 and will be removed in 1.8.\n",
      "  warnings.warn(\n"
     ]
    },
    {
     "name": "stdout",
     "output_type": "stream",
     "text": [
      "L=64: {np.int64(-1): np.int64(1036), np.int64(0): np.int64(126), np.int64(1): np.int64(27), np.int64(2): np.int64(36), np.int64(3): np.int64(6), np.int64(4): np.int64(44), np.int64(5): np.int64(55), np.int64(6): np.int64(97), np.int64(7): np.int64(126), np.int64(8): np.int64(39), np.int64(9): np.int64(31), np.int64(10): np.int64(39), np.int64(11): np.int64(13), np.int64(12): np.int64(53), np.int64(13): np.int64(36), np.int64(14): np.int64(58), np.int64(15): np.int64(24), np.int64(16): np.int64(12), np.int64(17): np.int64(5), np.int64(18): np.int64(41), np.int64(19): np.int64(50), np.int64(20): np.int64(42), np.int64(21): np.int64(18), np.int64(22): np.int64(13), np.int64(23): np.int64(76), np.int64(24): np.int64(14), np.int64(25): np.int64(69), np.int64(26): np.int64(29), np.int64(27): np.int64(36), np.int64(28): np.int64(23), np.int64(29): np.int64(14), np.int64(30): np.int64(14), np.int64(31): np.int64(39), np.int64(32): np.int64(12), np.int64(33): np.int64(11), np.int64(34): np.int64(8), np.int64(35): np.int64(14), np.int64(36): np.int64(47), np.int64(37): np.int64(10), np.int64(38): np.int64(5), np.int64(39): np.int64(6), np.int64(40): np.int64(12), np.int64(41): np.int64(8), np.int64(42): np.int64(12), np.int64(43): np.int64(27), np.int64(44): np.int64(18), np.int64(45): np.int64(46), np.int64(46): np.int64(21), np.int64(47): np.int64(30), np.int64(48): np.int64(62), np.int64(49): np.int64(8), np.int64(50): np.int64(6), np.int64(51): np.int64(24), np.int64(52): np.int64(45), np.int64(53): np.int64(13), np.int64(54): np.int64(23), np.int64(55): np.int64(12), np.int64(56): np.int64(27), np.int64(57): np.int64(29), np.int64(58): np.int64(128), np.int64(59): np.int64(37), np.int64(60): np.int64(7), np.int64(61): np.int64(10), np.int64(62): np.int64(21), np.int64(63): np.int64(12), np.int64(64): np.int64(9), np.int64(65): np.int64(11), np.int64(66): np.int64(23), np.int64(67): np.int64(17), np.int64(68): np.int64(18), np.int64(69): np.int64(7), np.int64(70): np.int64(5), np.int64(71): np.int64(63), np.int64(72): np.int64(10), np.int64(73): np.int64(18), np.int64(74): np.int64(32), np.int64(75): np.int64(19), np.int64(76): np.int64(9), np.int64(77): np.int64(9), np.int64(78): np.int64(10), np.int64(79): np.int64(8), np.int64(80): np.int64(19), np.int64(81): np.int64(54), np.int64(82): np.int64(7), np.int64(83): np.int64(14), np.int64(84): np.int64(11), np.int64(85): np.int64(40), np.int64(86): np.int64(30), np.int64(87): np.int64(7), np.int64(88): np.int64(21), np.int64(89): np.int64(33), np.int64(90): np.int64(10), np.int64(91): np.int64(12), np.int64(92): np.int64(26), np.int64(93): np.int64(8), np.int64(94): np.int64(26), np.int64(95): np.int64(74), np.int64(96): np.int64(19), np.int64(97): np.int64(61), np.int64(98): np.int64(8), np.int64(99): np.int64(27), np.int64(100): np.int64(10), np.int64(101): np.int64(56), np.int64(102): np.int64(11), np.int64(103): np.int64(6), np.int64(104): np.int64(16), np.int64(105): np.int64(9), np.int64(106): np.int64(13), np.int64(107): np.int64(59), np.int64(108): np.int64(15), np.int64(109): np.int64(26), np.int64(110): np.int64(53), np.int64(111): np.int64(13), np.int64(112): np.int64(23), np.int64(113): np.int64(8), np.int64(114): np.int64(7), np.int64(115): np.int64(12), np.int64(116): np.int64(7), np.int64(117): np.int64(6), np.int64(118): np.int64(5), np.int64(119): np.int64(6), np.int64(120): np.int64(6), np.int64(121): np.int64(15), np.int64(122): np.int64(8), np.int64(123): np.int64(22), np.int64(124): np.int64(12), np.int64(125): np.int64(10), np.int64(126): np.int64(9), np.int64(127): np.int64(7), np.int64(128): np.int64(17), np.int64(129): np.int64(35), np.int64(130): np.int64(7), np.int64(131): np.int64(14), np.int64(132): np.int64(11), np.int64(133): np.int64(25), np.int64(134): np.int64(12), np.int64(135): np.int64(21), np.int64(136): np.int64(18), np.int64(137): np.int64(12), np.int64(138): np.int64(17), np.int64(139): np.int64(24), np.int64(140): np.int64(32), np.int64(141): np.int64(38), np.int64(142): np.int64(53), np.int64(143): np.int64(14), np.int64(144): np.int64(25), np.int64(145): np.int64(17), np.int64(146): np.int64(8), np.int64(147): np.int64(9), np.int64(148): np.int64(47), np.int64(149): np.int64(8), np.int64(150): np.int64(19), np.int64(151): np.int64(34), np.int64(152): np.int64(11), np.int64(153): np.int64(30), np.int64(154): np.int64(62), np.int64(155): np.int64(6), np.int64(156): np.int64(11), np.int64(157): np.int64(17), np.int64(158): np.int64(14), np.int64(159): np.int64(16), np.int64(160): np.int64(17), np.int64(161): np.int64(14), np.int64(162): np.int64(67), np.int64(163): np.int64(14), np.int64(164): np.int64(15), np.int64(165): np.int64(7), np.int64(166): np.int64(21), np.int64(167): np.int64(11), np.int64(168): np.int64(25), np.int64(169): np.int64(21), np.int64(170): np.int64(10), np.int64(171): np.int64(17), np.int64(172): np.int64(53), np.int64(173): np.int64(44), np.int64(174): np.int64(35), np.int64(175): np.int64(13), np.int64(176): np.int64(17), np.int64(177): np.int64(9), np.int64(178): np.int64(38), np.int64(179): np.int64(8), np.int64(180): np.int64(16), np.int64(181): np.int64(8), np.int64(182): np.int64(15), np.int64(183): np.int64(19), np.int64(184): np.int64(32), np.int64(185): np.int64(5), np.int64(186): np.int64(24), np.int64(187): np.int64(5), np.int64(188): np.int64(57), np.int64(189): np.int64(6), np.int64(190): np.int64(16), np.int64(191): np.int64(21), np.int64(192): np.int64(8), np.int64(193): np.int64(33), np.int64(194): np.int64(16), np.int64(195): np.int64(20), np.int64(196): np.int64(8), np.int64(197): np.int64(5), np.int64(198): np.int64(18), np.int64(199): np.int64(7), np.int64(200): np.int64(26), np.int64(201): np.int64(21), np.int64(202): np.int64(19), np.int64(203): np.int64(26), np.int64(204): np.int64(6), np.int64(205): np.int64(9), np.int64(206): np.int64(17), np.int64(207): np.int64(29), np.int64(208): np.int64(6), np.int64(209): np.int64(17), np.int64(210): np.int64(19), np.int64(211): np.int64(16), np.int64(212): np.int64(44), np.int64(213): np.int64(12), np.int64(214): np.int64(25), np.int64(215): np.int64(60), np.int64(216): np.int64(7), np.int64(217): np.int64(29), np.int64(218): np.int64(9), np.int64(219): np.int64(9), np.int64(220): np.int64(26), np.int64(221): np.int64(31), np.int64(222): np.int64(48), np.int64(223): np.int64(10), np.int64(224): np.int64(7), np.int64(225): np.int64(10), np.int64(226): np.int64(17)}\n",
      "L=128: {np.int64(-1): np.int64(2212), np.int64(0): np.int64(5), np.int64(1): np.int64(11), np.int64(2): np.int64(5), np.int64(3): np.int64(9), np.int64(4): np.int64(5), np.int64(5): np.int64(7), np.int64(6): np.int64(12), np.int64(7): np.int64(8), np.int64(8): np.int64(7), np.int64(9): np.int64(5), np.int64(10): np.int64(9), np.int64(11): np.int64(13), np.int64(12): np.int64(6), np.int64(13): np.int64(6), np.int64(14): np.int64(15), np.int64(15): np.int64(22), np.int64(16): np.int64(8), np.int64(17): np.int64(7), np.int64(18): np.int64(31), np.int64(19): np.int64(4), np.int64(20): np.int64(8), np.int64(21): np.int64(5), np.int64(22): np.int64(6), np.int64(23): np.int64(7), np.int64(24): np.int64(8), np.int64(25): np.int64(6), np.int64(26): np.int64(7), np.int64(27): np.int64(5), np.int64(28): np.int64(10), np.int64(29): np.int64(5), np.int64(30): np.int64(29), np.int64(31): np.int64(6), np.int64(32): np.int64(6), np.int64(33): np.int64(5), np.int64(34): np.int64(10), np.int64(35): np.int64(13), np.int64(36): np.int64(21), np.int64(37): np.int64(6), np.int64(38): np.int64(6), np.int64(39): np.int64(12), np.int64(40): np.int64(19), np.int64(41): np.int64(6), np.int64(42): np.int64(15), np.int64(43): np.int64(11), np.int64(44): np.int64(5), np.int64(45): np.int64(7), np.int64(46): np.int64(10), np.int64(47): np.int64(9), np.int64(48): np.int64(7), np.int64(49): np.int64(5), np.int64(50): np.int64(13), np.int64(51): np.int64(9), np.int64(52): np.int64(23), np.int64(53): np.int64(13), np.int64(54): np.int64(5), np.int64(55): np.int64(12), np.int64(56): np.int64(9), np.int64(57): np.int64(10), np.int64(58): np.int64(7), np.int64(59): np.int64(8), np.int64(60): np.int64(6), np.int64(61): np.int64(10), np.int64(62): np.int64(5), np.int64(63): np.int64(12), np.int64(64): np.int64(23), np.int64(65): np.int64(8), np.int64(66): np.int64(31), np.int64(67): np.int64(21), np.int64(68): np.int64(5), np.int64(69): np.int64(5), np.int64(70): np.int64(6), np.int64(71): np.int64(6), np.int64(72): np.int64(16), np.int64(73): np.int64(9), np.int64(74): np.int64(7), np.int64(75): np.int64(5), np.int64(76): np.int64(5), np.int64(77): np.int64(5), np.int64(78): np.int64(7), np.int64(79): np.int64(7), np.int64(80): np.int64(9), np.int64(81): np.int64(6), np.int64(82): np.int64(16), np.int64(83): np.int64(7), np.int64(84): np.int64(20), np.int64(85): np.int64(5), np.int64(86): np.int64(13), np.int64(87): np.int64(4), np.int64(88): np.int64(18), np.int64(89): np.int64(5), np.int64(90): np.int64(7), np.int64(91): np.int64(10), np.int64(92): np.int64(5), np.int64(93): np.int64(17), np.int64(94): np.int64(5), np.int64(95): np.int64(10), np.int64(96): np.int64(7), np.int64(97): np.int64(5), np.int64(98): np.int64(5), np.int64(99): np.int64(9), np.int64(100): np.int64(11), np.int64(101): np.int64(11), np.int64(102): np.int64(7), np.int64(103): np.int64(5), np.int64(104): np.int64(6), np.int64(105): np.int64(23), np.int64(106): np.int64(13), np.int64(107): np.int64(7), np.int64(108): np.int64(5), np.int64(109): np.int64(19), np.int64(110): np.int64(5), np.int64(111): np.int64(5), np.int64(112): np.int64(5), np.int64(113): np.int64(15), np.int64(114): np.int64(10), np.int64(115): np.int64(13), np.int64(116): np.int64(3), np.int64(117): np.int64(7), np.int64(118): np.int64(18), np.int64(119): np.int64(10), np.int64(120): np.int64(14), np.int64(121): np.int64(5), np.int64(122): np.int64(5), np.int64(123): np.int64(8), np.int64(124): np.int64(5), np.int64(125): np.int64(5), np.int64(126): np.int64(5), np.int64(127): np.int64(12), np.int64(128): np.int64(3), np.int64(129): np.int64(7), np.int64(130): np.int64(15), np.int64(131): np.int64(23), np.int64(132): np.int64(24), np.int64(133): np.int64(7), np.int64(134): np.int64(10), np.int64(135): np.int64(7), np.int64(136): np.int64(7), np.int64(137): np.int64(18), np.int64(138): np.int64(11), np.int64(139): np.int64(5), np.int64(140): np.int64(6), np.int64(141): np.int64(7), np.int64(142): np.int64(7), np.int64(143): np.int64(9), np.int64(144): np.int64(13), np.int64(145): np.int64(23), np.int64(146): np.int64(13), np.int64(147): np.int64(7), np.int64(148): np.int64(9), np.int64(149): np.int64(5), np.int64(150): np.int64(7), np.int64(151): np.int64(8), np.int64(152): np.int64(6), np.int64(153): np.int64(8), np.int64(154): np.int64(15), np.int64(155): np.int64(5), np.int64(156): np.int64(6), np.int64(157): np.int64(14), np.int64(158): np.int64(32), np.int64(159): np.int64(8), np.int64(160): np.int64(39), np.int64(161): np.int64(5), np.int64(162): np.int64(7), np.int64(163): np.int64(7), np.int64(164): np.int64(5), np.int64(165): np.int64(32), np.int64(166): np.int64(13), np.int64(167): np.int64(8), np.int64(168): np.int64(7), np.int64(169): np.int64(8), np.int64(170): np.int64(5), np.int64(171): np.int64(14), np.int64(172): np.int64(6), np.int64(173): np.int64(15), np.int64(174): np.int64(22), np.int64(175): np.int64(9), np.int64(176): np.int64(28), np.int64(177): np.int64(8), np.int64(178): np.int64(10), np.int64(179): np.int64(7), np.int64(180): np.int64(7), np.int64(181): np.int64(7), np.int64(182): np.int64(14), np.int64(183): np.int64(5), np.int64(184): np.int64(5), np.int64(185): np.int64(15), np.int64(186): np.int64(6), np.int64(187): np.int64(11), np.int64(188): np.int64(9), np.int64(189): np.int64(8), np.int64(190): np.int64(5), np.int64(191): np.int64(7), np.int64(192): np.int64(5), np.int64(193): np.int64(13), np.int64(194): np.int64(5), np.int64(195): np.int64(3), np.int64(196): np.int64(7), np.int64(197): np.int64(11), np.int64(198): np.int64(5), np.int64(199): np.int64(9), np.int64(200): np.int64(7), np.int64(201): np.int64(7), np.int64(202): np.int64(24), np.int64(203): np.int64(8), np.int64(204): np.int64(5), np.int64(205): np.int64(6), np.int64(206): np.int64(9), np.int64(207): np.int64(9), np.int64(208): np.int64(5), np.int64(209): np.int64(5), np.int64(210): np.int64(7), np.int64(211): np.int64(5), np.int64(212): np.int64(12), np.int64(213): np.int64(5), np.int64(214): np.int64(5), np.int64(215): np.int64(9), np.int64(216): np.int64(5), np.int64(217): np.int64(9), np.int64(218): np.int64(10), np.int64(219): np.int64(10), np.int64(220): np.int64(5), np.int64(221): np.int64(5), np.int64(222): np.int64(5), np.int64(223): np.int64(10), np.int64(224): np.int64(14), np.int64(225): np.int64(8), np.int64(226): np.int64(7), np.int64(227): np.int64(18), np.int64(228): np.int64(17), np.int64(229): np.int64(8), np.int64(230): np.int64(5), np.int64(231): np.int64(5), np.int64(232): np.int64(5), np.int64(233): np.int64(7), np.int64(234): np.int64(6), np.int64(235): np.int64(13), np.int64(236): np.int64(9), np.int64(237): np.int64(13), np.int64(238): np.int64(8), np.int64(239): np.int64(6), np.int64(240): np.int64(5), np.int64(241): np.int64(6), np.int64(242): np.int64(15), np.int64(243): np.int64(6), np.int64(244): np.int64(5), np.int64(245): np.int64(12), np.int64(246): np.int64(7), np.int64(247): np.int64(11), np.int64(248): np.int64(12), np.int64(249): np.int64(15), np.int64(250): np.int64(9), np.int64(251): np.int64(8), np.int64(252): np.int64(26), np.int64(253): np.int64(18), np.int64(254): np.int64(8), np.int64(255): np.int64(9), np.int64(256): np.int64(5), np.int64(257): np.int64(7), np.int64(258): np.int64(5), np.int64(259): np.int64(10), np.int64(260): np.int64(5), np.int64(261): np.int64(5), np.int64(262): np.int64(7), np.int64(263): np.int64(6), np.int64(264): np.int64(5), np.int64(265): np.int64(14), np.int64(266): np.int64(18), np.int64(267): np.int64(5), np.int64(268): np.int64(8), np.int64(269): np.int64(11), np.int64(270): np.int64(19), np.int64(271): np.int64(19), np.int64(272): np.int64(26), np.int64(273): np.int64(17), np.int64(274): np.int64(10), np.int64(275): np.int64(9), np.int64(276): np.int64(7), np.int64(277): np.int64(5), np.int64(278): np.int64(27), np.int64(279): np.int64(26), np.int64(280): np.int64(33), np.int64(281): np.int64(22), np.int64(282): np.int64(31), np.int64(283): np.int64(8), np.int64(284): np.int64(16), np.int64(285): np.int64(6), np.int64(286): np.int64(27), np.int64(287): np.int64(5), np.int64(288): np.int64(5), np.int64(289): np.int64(13), np.int64(290): np.int64(26), np.int64(291): np.int64(9), np.int64(292): np.int64(5), np.int64(293): np.int64(5), np.int64(294): np.int64(3), np.int64(295): np.int64(11), np.int64(296): np.int64(5), np.int64(297): np.int64(5), np.int64(298): np.int64(16), np.int64(299): np.int64(7), np.int64(300): np.int64(3), np.int64(301): np.int64(5), np.int64(302): np.int64(5), np.int64(303): np.int64(11), np.int64(304): np.int64(14), np.int64(305): np.int64(5), np.int64(306): np.int64(7), np.int64(307): np.int64(5), np.int64(308): np.int64(14), np.int64(309): np.int64(7), np.int64(310): np.int64(5), np.int64(311): np.int64(36), np.int64(312): np.int64(21), np.int64(313): np.int64(5), np.int64(314): np.int64(11), np.int64(315): np.int64(9), np.int64(316): np.int64(15), np.int64(317): np.int64(11), np.int64(318): np.int64(10), np.int64(319): np.int64(6), np.int64(320): np.int64(18), np.int64(321): np.int64(10), np.int64(322): np.int64(13), np.int64(323): np.int64(15), np.int64(324): np.int64(12), np.int64(325): np.int64(19), np.int64(326): np.int64(4), np.int64(327): np.int64(5), np.int64(328): np.int64(24), np.int64(329): np.int64(11), np.int64(330): np.int64(6), np.int64(331): np.int64(12), np.int64(332): np.int64(6), np.int64(333): np.int64(12), np.int64(334): np.int64(10), np.int64(335): np.int64(5), np.int64(336): np.int64(5), np.int64(337): np.int64(8), np.int64(338): np.int64(13), np.int64(339): np.int64(5), np.int64(340): np.int64(7), np.int64(341): np.int64(10), np.int64(342): np.int64(11), np.int64(343): np.int64(5), np.int64(344): np.int64(5), np.int64(345): np.int64(5), np.int64(346): np.int64(5), np.int64(347): np.int64(5), np.int64(348): np.int64(12), np.int64(349): np.int64(5), np.int64(350): np.int64(7), np.int64(351): np.int64(5), np.int64(352): np.int64(7), np.int64(353): np.int64(8), np.int64(354): np.int64(5), np.int64(355): np.int64(7), np.int64(356): np.int64(8), np.int64(357): np.int64(6), np.int64(358): np.int64(5), np.int64(359): np.int64(11), np.int64(360): np.int64(4), np.int64(361): np.int64(13), np.int64(362): np.int64(10), np.int64(363): np.int64(10), np.int64(364): np.int64(5), np.int64(365): np.int64(12), np.int64(366): np.int64(5), np.int64(367): np.int64(42), np.int64(368): np.int64(18), np.int64(369): np.int64(15), np.int64(370): np.int64(3), np.int64(371): np.int64(5), np.int64(372): np.int64(7), np.int64(373): np.int64(5), np.int64(374): np.int64(10), np.int64(375): np.int64(18), np.int64(376): np.int64(11), np.int64(377): np.int64(34), np.int64(378): np.int64(12), np.int64(379): np.int64(16), np.int64(380): np.int64(19), np.int64(381): np.int64(8), np.int64(382): np.int64(18), np.int64(383): np.int64(13), np.int64(384): np.int64(15), np.int64(385): np.int64(14), np.int64(386): np.int64(16), np.int64(387): np.int64(8), np.int64(388): np.int64(5), np.int64(389): np.int64(8), np.int64(390): np.int64(16), np.int64(391): np.int64(6), np.int64(392): np.int64(9), np.int64(393): np.int64(11), np.int64(394): np.int64(5), np.int64(395): np.int64(21), np.int64(396): np.int64(13), np.int64(397): np.int64(7), np.int64(398): np.int64(8), np.int64(399): np.int64(9), np.int64(400): np.int64(5), np.int64(401): np.int64(12)}\n",
      "L=256: {np.int64(-1): np.int64(3), np.int64(0): np.int64(946), np.int64(1): np.int64(252), np.int64(2): np.int64(4958)}\n"
     ]
    }
   ],
   "source": [
    "results = {}\n",
    "for L, win3 in windows_dict.items():\n",
    "    Z = encoder.encode(win3).mean(axis=1)\n",
    "    Z_scaled = StandardScaler().fit_transform(Z)\n",
    "    labels = DBSCAN(eps=EPS.value, min_samples=MIN_SAMP.value).fit_predict(Z_scaled)\n",
    "    if (labels==-1).all():  # fallback\n",
    "        labels = hdbscan.HDBSCAN(min_cluster_size=MIN_SAMP.value,\n",
    "                                 min_samples=MIN_SAMP.value).fit_predict(Z_scaled)\n",
    "    results[L] = dict(labels=labels, Z=Z_scaled)\n",
    "    print(f'L={L}:', dict(zip(*np.unique(labels, return_counts=True))))"
   ]
  },
  {
   "cell_type": "markdown",
   "id": "2c0e9b62",
   "metadata": {},
   "source": [
    "Interactive pattern gallery"
   ]
  },
  {
   "cell_type": "code",
   "execution_count": 10,
   "id": "879aab5f",
   "metadata": {},
   "outputs": [
    {
     "data": {
      "application/vnd.jupyter.widget-view+json": {
       "model_id": "4949b323c0694ace8d1859aa04b67855",
       "version_major": 2,
       "version_minor": 0
      },
      "text/plain": [
       "interactive(children=(Dropdown(description='Win len', options=(32, 64, 128, 256), value=32), Output()), _dom_c…"
      ]
     },
     "metadata": {},
     "output_type": "display_data"
    },
    {
     "data": {
      "text/plain": [
       "<function __main__.show_gallery(win_len)>"
      ]
     },
     "execution_count": 10,
     "metadata": {},
     "output_type": "execute_result"
    }
   ],
   "source": [
    "def show_gallery(win_len):\n",
    "    labels = results[win_len]['labels']\n",
    "    win3   = windows_dict[win_len]\n",
    "    ids = [cid for cid,cnt in zip(*np.unique(labels, return_counts=True))\n",
    "           if cid!=-1 and cnt>=MIN_SIZE.value]\n",
    "    if not ids:\n",
    "        print('No clusters ≥', MIN_SIZE.value); return\n",
    "    cols=3; rows=math.ceil(len(ids)/cols)\n",
    "    fig,axs=plt.subplots(rows,cols,figsize=(5*cols,3*rows), squeeze=False)\n",
    "    for ax,cid in zip(axs.ravel(), ids):\n",
    "        candle_panel(win3[labels==cid], ax=ax)\n",
    "        ax.set_title(f'CID {cid} • {sum(labels==cid)}', fontsize=8)\n",
    "    for ax in axs.ravel()[len(ids):]: ax.axis('off')\n",
    "    plt.tight_layout(); plt.show()\n",
    "\n",
    "\n",
    "\n",
    "w.interact(show_gallery, win_len=w.Dropdown(options=WIN_LENS.value, description='Win len'))"
   ]
  },
  {
   "cell_type": "markdown",
   "id": "7c67515f",
   "metadata": {},
   "source": [
    "Raw-window drill-down"
   ]
  },
  {
   "cell_type": "code",
   "execution_count": 11,
   "id": "543dbd40",
   "metadata": {},
   "outputs": [
    {
     "data": {
      "application/vnd.jupyter.widget-view+json": {
       "model_id": "46fbb6f58f7f47bca27717d6c2e65798",
       "version_major": 2,
       "version_minor": 0
      },
      "text/plain": [
       "interactive(children=(Dropdown(description='Win len', options=(32, 64, 128, 256), value=32), IntText(value=0, …"
      ]
     },
     "metadata": {},
     "output_type": "display_data"
    },
    {
     "data": {
      "text/plain": [
       "<function __main__.drill_candles(win_len, cid, n)>"
      ]
     },
     "execution_count": 11,
     "metadata": {},
     "output_type": "execute_result"
    }
   ],
   "source": [
    "def drill_candles(win_len, cid, n):\n",
    "    windows3 = windows_dict[win_len]\n",
    "    labels   = results[win_len]['labels']\n",
    "    idxs     = np.where(labels == cid)[0]\n",
    "\n",
    "    if len(idxs) == 0:\n",
    "        print(f\"Cluster {cid} empty\")\n",
    "        return\n",
    "\n",
    "    # sample up to n windows\n",
    "    samp = np.random.choice(idxs, min(n, len(idxs)), replace=False)\n",
    "    cols = 3\n",
    "    rows = math.ceil(len(samp) / cols)\n",
    "\n",
    "    fig, axs = plt.subplots(rows, cols, figsize=(5 * cols, 2.5 * rows), squeeze=False)\n",
    "    for ax, i in zip(axs.ravel(), samp):\n",
    "        candle_panel(windows3[i:i+1], ax=ax)\n",
    "        ax.set_title(f\"id {i}\", fontsize=8)\n",
    "\n",
    "    # turn off any unused axes\n",
    "    for ax in axs.ravel()[len(samp):]:\n",
    "        ax.axis('off')\n",
    "\n",
    "    plt.tight_layout()\n",
    "    plt.show()\n",
    "\n",
    "# hook up the interact UI\n",
    "w.interact(\n",
    "    drill_candles,\n",
    "    win_len=w.Dropdown(options=WIN_LENS.value, description='Win len'),\n",
    "    cid    =w.IntText(value=0, description='Cluster ID'),\n",
    "    n      =w.IntSlider(value=6, min=1, max=12, description='Samples')\n",
    ")"
   ]
  },
  {
   "cell_type": "markdown",
   "id": "e90e4eeb",
   "metadata": {},
   "source": [
    "Save embeddings & labels"
   ]
  },
  {
   "cell_type": "code",
   "execution_count": null,
   "id": "589074f9",
   "metadata": {},
   "outputs": [],
   "source": [
    "for L, res in results.items():\n",
    "    np.savez_compressed(f'embeddings_L{L}.npz',\n",
    "                        Z=res['Z'], labels=res['labels'])\n",
    "print('All embeddings saved.')"
   ]
  },
  {
   "cell_type": "markdown",
   "id": "c64e06a6",
   "metadata": {},
   "source": [
    "Next steps"
   ]
  },
  {
   "cell_type": "code",
   "execution_count": null,
   "id": "6776753e",
   "metadata": {},
   "outputs": [],
   "source": []
  }
 ],
 "metadata": {
  "kernelspec": {
   "display_name": ".venv",
   "language": "python",
   "name": "python3"
  },
  "language_info": {
   "codemirror_mode": {
    "name": "ipython",
    "version": 3
   },
   "file_extension": ".py",
   "mimetype": "text/x-python",
   "name": "python",
   "nbconvert_exporter": "python",
   "pygments_lexer": "ipython3",
   "version": "3.11.9"
  }
 },
 "nbformat": 4,
 "nbformat_minor": 5
}
