{
  "cells": [
    {
      "cell_type": "markdown",
      "metadata": {
        "id": "QqYlwPgRTQi7"
      },
      "source": [
        "# Libraries"
      ]
    },
    {
      "cell_type": "code",
      "execution_count": 5,
      "metadata": {
        "id": "-5ABHJldTId4"
      },
      "outputs": [],
      "source": [
        "import torch\n",
        "import torch.nn as nn\n",
        "import torch.optim as optim\n",
        "import pandas as pd\n",
        "import sklearn as sklearn\n",
        "from sklearn.preprocessing import StandardScaler\n",
        "\n",
        "# parameters\n",
        "input_channels = 5 # open, high, low, close, volume\n",
        "activation_function = nn.LeakyReLU()\n",
        "learning_rate = 0.001\n",
        "epochs = 1000\n",
        "loss_function = nn.MSELoss()\n",
        "window_size = 15 # 15 day window\n",
        "scaler = StandardScaler()"
      ]
    },
    {
      "cell_type": "markdown",
      "metadata": {
        "id": "6WvFOqzlTXhm"
      },
      "source": [
        "# loading in the dataset"
      ]
    },
    {
      "cell_type": "code",
      "execution_count": 18,
      "metadata": {},
      "outputs": [],
      "source": [
        "df = pd.read_csv(\"../Exlai/data.csv\")\n",
        "df = df[df[\"Company\"] == \"AAPL\"] # select Apple's stock price data\n",
        "\n",
        "open_data = list()\n",
        "close_data = list()\n",
        "high_data = list()\n",
        "low_data = list()\n",
        "volume_data = list()\n",
        "\n",
        "# the dataset is in a shitty format, so i have to fix it here\n",
        "\n",
        "for i in range(len(df)):\n",
        "  open_data.append(float(df[\"Open\"][i][1:]))\n",
        "  close_data.append(float(df[\"Close/Last\"][i][1:]))\n",
        "  high_data.append(float(df[\"High\"][i][1:]))\n",
        "  low_data.append(float(df.Low[i][1:]))\n",
        "  volume_data.append(float(df.Volume[i]))\n",
        "\n",
        "open_data.reverse()\n",
        "high_data.reverse()\n",
        "low_data.reverse()\n",
        "close_data.reverse()\n",
        "volume_data.reverse()"
      ]
    },
    {
      "cell_type": "code",
      "execution_count": 24,
      "metadata": {
        "colab": {
          "base_uri": "https://localhost:8080/"
        },
        "id": "JS8lVd4xTwbq",
        "outputId": "1110e86b-689f-4103-c72f-aad78ad45c4c"
      },
      "outputs": [],
      "source": [
        "data = []\n",
        "\n",
        "# first we fit our scaler to our mean and standard deviation\n",
        "scaled_data = scaler.fit_transform(\n",
        "  torch.tensor([open_data, high_data, low_data, close_data, volume_data]).T\n",
        ")\n",
        "\n",
        "# this gets the closing price to predict but we don't want the first windows input data \n",
        "target = torch.tensor(scaled_data[window_size:, 3:4], dtype=torch.float)\n",
        "\n",
        "# this selects our windows and adds them to one list\n",
        "for i in range(len(open_data) - window_size):\n",
        "  data.append([\n",
        "    open_data[i:i + window_size],\n",
        "    high_data[i:i + window_size], \n",
        "    low_data[i:i + window_size], \n",
        "    close_data[i:i + window_size], \n",
        "    volume_data[i:i + window_size]])\n",
        "\n",
        "# in order to scale our data we have to swap the rows and columns around\n",
        "data = torch.tensor(data).permute([0, 2, 1])\n",
        "\n",
        "# this scales each window to our mean and standard deviation\n",
        "for i in range(len(data)):\n",
        "  data[i] = torch.tensor(scaler.transform(data[i]))\n",
        "\n",
        "# change it back\n",
        "data = data.permute([0, 2, 1])\n",
        "  \n",
        "train_x, test_x, train_y, test_y = sklearn.model_selection.train_test_split(data, target, random_state=7)\n"
      ]
    },
    {
      "cell_type": "markdown",
      "metadata": {
        "id": "CtvmACQrT1vu"
      },
      "source": [
        "# Building the model\n",
        "The network is set up to output a single value prediction. Probably the closing price for some future date."
      ]
    },
    {
      "cell_type": "code",
      "execution_count": 8,
      "metadata": {
        "id": "uwXbbok2T6T4"
      },
      "outputs": [],
      "source": [
        "class Net(nn.Module): # the nn.Module is set up as the parent class for the Net Class\n",
        "    def __init__(self):\n",
        "        super(Net, self).__init__() # This calls the init method of the nn.Module parent class to ensure that its been initialized\n",
        "\n",
        "        self.model = nn.Sequential(\n",
        "            nn.Conv1d(in_channels=input_channels, out_channels=64, kernel_size=2, stride=1),\n",
        "            activation_function,\n",
        "            nn.MaxPool1d(kernel_size=2, stride=2),\n",
        "            nn.Conv1d(in_channels=64, out_channels=128, kernel_size=2, stride=1),\n",
        "            activation_function,\n",
        "            nn.MaxPool1d(kernel_size=2, stride=2),\n",
        "            nn.Flatten(),\n",
        "            nn.Linear(in_features=384, out_features=64),\n",
        "            activation_function,\n",
        "            nn.Linear(64, 1),\n",
        "        )\n",
        "\n",
        "    def forward(self, x):\n",
        "\n",
        "        return self.model(x)\n",
        "\n",
        "\n",
        "net = Net()"
      ]
    },
    {
      "cell_type": "markdown",
      "metadata": {
        "id": "q0BNzFwfsLpl"
      },
      "source": [
        "Resources: https://www.geeksforgeeks.org/deep-learning/building-a-convolutional-neural-network-using-pytorch/\n"
      ]
    },
    {
      "cell_type": "markdown",
      "metadata": {
        "id": "_Xudo6T7lAeH"
      },
      "source": [
        "# Training the model"
      ]
    },
    {
      "cell_type": "code",
      "execution_count": 9,
      "metadata": {
        "id": "Bgk6534Uk_QC"
      },
      "outputs": [
        {
          "name": "stdout",
          "output_type": "stream",
          "text": [
            "Epoch: 0, Loss: 0.9491673708\n",
            "Epoch: 50, Loss: 0.0066777593\n",
            "Epoch: 100, Loss: 0.0043967422\n",
            "Epoch: 150, Loss: 0.0038152293\n",
            "Epoch: 200, Loss: 0.0030099468\n",
            "Epoch: 250, Loss: 0.0023057540\n",
            "Epoch: 300, Loss: 0.0020730686\n",
            "Epoch: 350, Loss: 0.0019270654\n",
            "Epoch: 400, Loss: 0.0018110471\n",
            "Epoch: 450, Loss: 0.0017144692\n",
            "Epoch: 500, Loss: 0.0016346531\n",
            "Epoch: 550, Loss: 0.0015703143\n",
            "Epoch: 600, Loss: 0.0015207264\n",
            "Epoch: 650, Loss: 0.0014696572\n",
            "Epoch: 700, Loss: 0.0014222186\n",
            "Epoch: 750, Loss: 0.0013797773\n",
            "Epoch: 800, Loss: 0.0013445887\n",
            "Epoch: 850, Loss: 0.0013127831\n",
            "Epoch: 900, Loss: 0.0012802236\n",
            "Epoch: 950, Loss: 0.0012476660\n"
          ]
        }
      ],
      "source": [
        "def train(model: nn.Module, train_x, train_y, epochs, learning_rate):\n",
        "  optimizer = optim.Adam(net.parameters(), lr=learning_rate)\n",
        "\n",
        "  for epoch in range(epochs):\n",
        "    y_hat = net(train_x)\n",
        "    loss = loss_function(y_hat, train_y)\n",
        "    optimizer.zero_grad()\n",
        "    loss.backward()\n",
        "    optimizer.step()\n",
        "\n",
        "    if epoch % 50 == 0: # print out the loss as the model is training\n",
        "      print(f\"Epoch: {epoch}, Loss: {loss.item():.10f}\")\n",
        "\n",
        "train(net, train_x, train_y, epochs, learning_rate)\n"
      ]
    },
    {
      "cell_type": "markdown",
      "metadata": {
        "id": "LtNzeg7j0xoN"
      },
      "source": [
        "# Running the model"
      ]
    },
    {
      "cell_type": "code",
      "execution_count": null,
      "metadata": {
        "id": "eQxq4uo_00S0"
      },
      "outputs": [],
      "source": [
        "y_hat = net(test_x)\n",
        "loss_function(y_hat, test_y)\n",
        "\n",
        "price_prediction = y_hat.tolist()\n"
      ]
    }
  ],
  "metadata": {
    "colab": {
      "provenance": []
    },
    "kernelspec": {
      "display_name": "Python 3",
      "name": "python3"
    },
    "language_info": {
      "codemirror_mode": {
        "name": "ipython",
        "version": 3
      },
      "file_extension": ".py",
      "mimetype": "text/x-python",
      "name": "python",
      "nbconvert_exporter": "python",
      "pygments_lexer": "ipython3",
      "version": "3.13.3"
    }
  },
  "nbformat": 4,
  "nbformat_minor": 0
}
