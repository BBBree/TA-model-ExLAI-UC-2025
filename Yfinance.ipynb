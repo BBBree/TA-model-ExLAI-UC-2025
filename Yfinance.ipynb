{
 "cells": [
  {
   "cell_type": "code",
   "execution_count": null,
   "id": "62cae4fa",
   "metadata": {},
   "outputs": [],
   "source": [
    "import yfinance as yf\n",
    "import matplotlib.pyplot as plt\n",
    "\n",
    "symbol = \"AAPL\"\n",
    "\n",
    "ticker = yf.Ticker(symbol)\n",
    "\n",
    "#Historical data of apple's stocks, from 1980 to 1990\n",
    "historical_data = ticker.history(start=\"1980-01-01\",end=\"1990-01-01\", interval=\"1d\")\n",
    "\n",
    "#print(historical_data)\n",
    "\n",
    "#Apple's stocks, detailing only the open and close parameters\n",
    "select = historical_data[[\"Open\",\"Close\"]]\n",
    "print(select)\n",
    "\n",
    "#Showing only when the close is greater than the open parameters in a day\n",
    "select = select[historical_data[\"Close\"] > historical_data[\"Open\"]]\n",
    "#print(select)\n",
    "\n",
    "#Plotting a graph, of every close figure over time\n",
    "plt.figure(figsize=(14,7))\n",
    "plt.plot(historical_data.index, historical_data[\"Close\"], label=\"Close price\", color = \"blue\")\n",
    "plt.show()"
   ]
  }
 ],
 "metadata": {
  "kernelspec": {
   "display_name": "Python 3",
   "language": "python",
   "name": "python3"
  },
  "language_info": {
   "name": "python",
   "version": "3.12.7"
  }
 },
 "nbformat": 4,
 "nbformat_minor": 5
}
